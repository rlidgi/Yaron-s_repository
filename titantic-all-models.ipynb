{
 "cells": [
  {
   "cell_type": "code",
   "execution_count": 1,
   "id": "c76dd590",
   "metadata": {
    "_cell_guid": "b1076dfc-b9ad-4769-8c92-a6c4dae69d19",
    "_uuid": "8f2839f25d086af736a60e9eeb907d3b93b6e0e5",
    "execution": {
     "iopub.execute_input": "2023-03-22T01:00:08.111392Z",
     "iopub.status.busy": "2023-03-22T01:00:08.110231Z",
     "iopub.status.idle": "2023-03-22T01:00:10.057335Z",
     "shell.execute_reply": "2023-03-22T01:00:10.056145Z"
    },
    "executionInfo": {
     "elapsed": 190,
     "status": "ok",
     "timestamp": 1679013193478,
     "user": {
      "displayName": "Y L",
      "userId": "10906315492438391707"
     },
     "user_tz": 420
    },
    "id": "jVl_7DfKQj4R",
    "papermill": {
     "duration": 1.968279,
     "end_time": "2023-03-22T01:00:10.060485",
     "exception": false,
     "start_time": "2023-03-22T01:00:08.092206",
     "status": "completed"
    },
    "scrolled": true,
    "tags": []
   },
   "outputs": [],
   "source": [
    "#!pip install seaborn\n",
    "\n",
    "import numpy as np # linear algebra\n",
    "import pandas as pd # data processing, CSV file I/O (e.g. pd.read_csv)\n",
    "\n",
    "\n",
    "import seaborn as sns\n",
    "from sklearn import preprocessing\n",
    "from sklearn.model_selection import train_test_split\n",
    "from sklearn.svm import SVR\n",
    "from sklearn import linear_model\n",
    "\n",
    "from sklearn.neural_network import MLPRegressor\n",
    "from sklearn.metrics import mean_squared_error\n",
    "from sklearn.metrics import mean_absolute_error\n",
    "from sklearn.svm import SVC\n",
    "from sklearn.neural_network import MLPClassifier\n",
    "from matplotlib import pyplot as plt\n",
    "\n",
    "from sklearn.metrics import classification_report\n",
    "from sklearn.metrics import roc_auc_score\n",
    "from sklearn.ensemble import GradientBoostingClassifier\n",
    "from sklearn.ensemble import RandomForestClassifier\n",
    "from sklearn.neural_network import MLPClassifier\n",
    "\n",
    "from sklearn.model_selection import learning_curve\n",
    "from sklearn.model_selection import validation_curve\n",
    "from xgboost import XGBClassifier"
   ]
  },
  {
   "cell_type": "markdown",
   "id": "c56429a2",
   "metadata": {
    "execution": {
     "iopub.status.busy": "2022-08-18T15:33:25.498671Z",
     "iopub.status.idle": "2022-08-18T15:33:25.499323Z",
     "shell.execute_reply": "2022-08-18T15:33:25.499128Z",
     "shell.execute_reply.started": "2022-08-18T15:33:25.499106Z"
    },
    "id": "UDT84nOzQj4U",
    "papermill": {
     "duration": 0.014648,
     "end_time": "2023-03-22T01:00:10.090824",
     "exception": false,
     "start_time": "2023-03-22T01:00:10.076176",
     "status": "completed"
    },
    "tags": []
   },
   "source": [
    "## EDA"
   ]
  },
  {
   "cell_type": "code",
   "execution_count": 2,
   "id": "919cb3d5",
   "metadata": {
    "execution": {
     "iopub.execute_input": "2023-03-22T01:00:10.125229Z",
     "iopub.status.busy": "2023-03-22T01:00:10.124707Z",
     "iopub.status.idle": "2023-03-22T01:00:10.155590Z",
     "shell.execute_reply": "2023-03-22T01:00:10.154445Z"
    },
    "executionInfo": {
     "elapsed": 9426,
     "status": "ok",
     "timestamp": 1679000856935,
     "user": {
      "displayName": "Y L",
      "userId": "10906315492438391707"
     },
     "user_tz": 420
    },
    "id": "dOYWOe2IQj4X",
    "outputId": "d9df78bd-ddc6-4b78-dbd4-6c1e0991761b",
    "papermill": {
     "duration": 0.053029,
     "end_time": "2023-03-22T01:00:10.158425",
     "exception": false,
     "start_time": "2023-03-22T01:00:10.105396",
     "status": "completed"
    },
    "tags": []
   },
   "outputs": [],
   "source": [
    "df1= pd.read_csv(\"/kaggle/input/titanic/train.csv\")\n",
    "df2 = pd.read_csv(\"/kaggle/input/titanic/test.csv\")"
   ]
  },
  {
   "cell_type": "code",
   "execution_count": 3,
   "id": "69a785c9",
   "metadata": {
    "execution": {
     "iopub.execute_input": "2023-03-22T01:00:10.197091Z",
     "iopub.status.busy": "2023-03-22T01:00:10.195690Z",
     "iopub.status.idle": "2023-03-22T01:00:10.259138Z",
     "shell.execute_reply": "2023-03-22T01:00:10.257936Z"
    },
    "executionInfo": {
     "elapsed": 162,
     "status": "ok",
     "timestamp": 1679000862531,
     "user": {
      "displayName": "Y L",
      "userId": "10906315492438391707"
     },
     "user_tz": 420
    },
    "id": "FfDRGhnQQj4Z",
    "outputId": "265b6bcb-0d6c-41a2-fb69-2e6ff6d90ea5",
    "papermill": {
     "duration": 0.085503,
     "end_time": "2023-03-22T01:00:10.262879",
     "exception": false,
     "start_time": "2023-03-22T01:00:10.177376",
     "status": "completed"
    },
    "tags": []
   },
   "outputs": [
    {
     "data": {
      "text/html": [
       "<div>\n",
       "<style scoped>\n",
       "    .dataframe tbody tr th:only-of-type {\n",
       "        vertical-align: middle;\n",
       "    }\n",
       "\n",
       "    .dataframe tbody tr th {\n",
       "        vertical-align: top;\n",
       "    }\n",
       "\n",
       "    .dataframe thead th {\n",
       "        text-align: right;\n",
       "    }\n",
       "</style>\n",
       "<table border=\"1\" class=\"dataframe\">\n",
       "  <thead>\n",
       "    <tr style=\"text-align: right;\">\n",
       "      <th></th>\n",
       "      <th>Age</th>\n",
       "      <th>Fare</th>\n",
       "      <th>Pclass</th>\n",
       "      <th>Survived</th>\n",
       "    </tr>\n",
       "  </thead>\n",
       "  <tbody>\n",
       "    <tr>\n",
       "      <th>count</th>\n",
       "      <td>714.000000</td>\n",
       "      <td>891.000000</td>\n",
       "      <td>891.000000</td>\n",
       "      <td>891.000000</td>\n",
       "    </tr>\n",
       "    <tr>\n",
       "      <th>mean</th>\n",
       "      <td>29.699118</td>\n",
       "      <td>32.204208</td>\n",
       "      <td>2.308642</td>\n",
       "      <td>0.383838</td>\n",
       "    </tr>\n",
       "    <tr>\n",
       "      <th>std</th>\n",
       "      <td>14.526497</td>\n",
       "      <td>49.693429</td>\n",
       "      <td>0.836071</td>\n",
       "      <td>0.486592</td>\n",
       "    </tr>\n",
       "    <tr>\n",
       "      <th>min</th>\n",
       "      <td>0.420000</td>\n",
       "      <td>0.000000</td>\n",
       "      <td>1.000000</td>\n",
       "      <td>0.000000</td>\n",
       "    </tr>\n",
       "    <tr>\n",
       "      <th>25%</th>\n",
       "      <td>20.125000</td>\n",
       "      <td>7.910400</td>\n",
       "      <td>2.000000</td>\n",
       "      <td>0.000000</td>\n",
       "    </tr>\n",
       "    <tr>\n",
       "      <th>50%</th>\n",
       "      <td>28.000000</td>\n",
       "      <td>14.454200</td>\n",
       "      <td>3.000000</td>\n",
       "      <td>0.000000</td>\n",
       "    </tr>\n",
       "    <tr>\n",
       "      <th>75%</th>\n",
       "      <td>38.000000</td>\n",
       "      <td>31.000000</td>\n",
       "      <td>3.000000</td>\n",
       "      <td>1.000000</td>\n",
       "    </tr>\n",
       "    <tr>\n",
       "      <th>max</th>\n",
       "      <td>80.000000</td>\n",
       "      <td>512.329200</td>\n",
       "      <td>3.000000</td>\n",
       "      <td>1.000000</td>\n",
       "    </tr>\n",
       "  </tbody>\n",
       "</table>\n",
       "</div>"
      ],
      "text/plain": [
       "              Age        Fare      Pclass    Survived\n",
       "count  714.000000  891.000000  891.000000  891.000000\n",
       "mean    29.699118   32.204208    2.308642    0.383838\n",
       "std     14.526497   49.693429    0.836071    0.486592\n",
       "min      0.420000    0.000000    1.000000    0.000000\n",
       "25%     20.125000    7.910400    2.000000    0.000000\n",
       "50%     28.000000   14.454200    3.000000    0.000000\n",
       "75%     38.000000   31.000000    3.000000    1.000000\n",
       "max     80.000000  512.329200    3.000000    1.000000"
      ]
     },
     "execution_count": 3,
     "metadata": {},
     "output_type": "execute_result"
    }
   ],
   "source": [
    "train_df = df1[['Sex','Age','Fare','Pclass','Survived']]\n",
    "train_df.describe()"
   ]
  },
  {
   "cell_type": "code",
   "execution_count": 4,
   "id": "f4027925",
   "metadata": {
    "execution": {
     "iopub.execute_input": "2023-03-22T01:00:10.298446Z",
     "iopub.status.busy": "2023-03-22T01:00:10.296423Z",
     "iopub.status.idle": "2023-03-22T01:00:10.323007Z",
     "shell.execute_reply": "2023-03-22T01:00:10.321537Z"
    },
    "executionInfo": {
     "elapsed": 201,
     "status": "ok",
     "timestamp": 1679000867551,
     "user": {
      "displayName": "Y L",
      "userId": "10906315492438391707"
     },
     "user_tz": 420
    },
    "id": "5cvcaaLxQj4a",
    "outputId": "0a8819be-9608-4f3b-f391-1042d7a75a33",
    "papermill": {
     "duration": 0.047894,
     "end_time": "2023-03-22T01:00:10.326281",
     "exception": false,
     "start_time": "2023-03-22T01:00:10.278387",
     "status": "completed"
    },
    "tags": []
   },
   "outputs": [
    {
     "data": {
      "text/html": [
       "<div>\n",
       "<style scoped>\n",
       "    .dataframe tbody tr th:only-of-type {\n",
       "        vertical-align: middle;\n",
       "    }\n",
       "\n",
       "    .dataframe tbody tr th {\n",
       "        vertical-align: top;\n",
       "    }\n",
       "\n",
       "    .dataframe thead th {\n",
       "        text-align: right;\n",
       "    }\n",
       "</style>\n",
       "<table border=\"1\" class=\"dataframe\">\n",
       "  <thead>\n",
       "    <tr style=\"text-align: right;\">\n",
       "      <th></th>\n",
       "      <th>Age</th>\n",
       "      <th>Fare</th>\n",
       "      <th>Pclass</th>\n",
       "    </tr>\n",
       "  </thead>\n",
       "  <tbody>\n",
       "    <tr>\n",
       "      <th>count</th>\n",
       "      <td>332.000000</td>\n",
       "      <td>417.000000</td>\n",
       "      <td>418.000000</td>\n",
       "    </tr>\n",
       "    <tr>\n",
       "      <th>mean</th>\n",
       "      <td>30.272590</td>\n",
       "      <td>35.627188</td>\n",
       "      <td>2.265550</td>\n",
       "    </tr>\n",
       "    <tr>\n",
       "      <th>std</th>\n",
       "      <td>14.181209</td>\n",
       "      <td>55.907576</td>\n",
       "      <td>0.841838</td>\n",
       "    </tr>\n",
       "    <tr>\n",
       "      <th>min</th>\n",
       "      <td>0.170000</td>\n",
       "      <td>0.000000</td>\n",
       "      <td>1.000000</td>\n",
       "    </tr>\n",
       "    <tr>\n",
       "      <th>25%</th>\n",
       "      <td>21.000000</td>\n",
       "      <td>7.895800</td>\n",
       "      <td>1.000000</td>\n",
       "    </tr>\n",
       "    <tr>\n",
       "      <th>50%</th>\n",
       "      <td>27.000000</td>\n",
       "      <td>14.454200</td>\n",
       "      <td>3.000000</td>\n",
       "    </tr>\n",
       "    <tr>\n",
       "      <th>75%</th>\n",
       "      <td>39.000000</td>\n",
       "      <td>31.500000</td>\n",
       "      <td>3.000000</td>\n",
       "    </tr>\n",
       "    <tr>\n",
       "      <th>max</th>\n",
       "      <td>76.000000</td>\n",
       "      <td>512.329200</td>\n",
       "      <td>3.000000</td>\n",
       "    </tr>\n",
       "  </tbody>\n",
       "</table>\n",
       "</div>"
      ],
      "text/plain": [
       "              Age        Fare      Pclass\n",
       "count  332.000000  417.000000  418.000000\n",
       "mean    30.272590   35.627188    2.265550\n",
       "std     14.181209   55.907576    0.841838\n",
       "min      0.170000    0.000000    1.000000\n",
       "25%     21.000000    7.895800    1.000000\n",
       "50%     27.000000   14.454200    3.000000\n",
       "75%     39.000000   31.500000    3.000000\n",
       "max     76.000000  512.329200    3.000000"
      ]
     },
     "execution_count": 4,
     "metadata": {},
     "output_type": "execute_result"
    }
   ],
   "source": [
    "test_df = df2[['Sex','Age','Fare','Pclass']]\n",
    "test_df.describe()\n"
   ]
  },
  {
   "cell_type": "code",
   "execution_count": 5,
   "id": "f065b371",
   "metadata": {
    "execution": {
     "iopub.execute_input": "2023-03-22T01:00:10.363056Z",
     "iopub.status.busy": "2023-03-22T01:00:10.362570Z",
     "iopub.status.idle": "2023-03-22T01:00:10.384933Z",
     "shell.execute_reply": "2023-03-22T01:00:10.383359Z"
    },
    "executionInfo": {
     "elapsed": 5,
     "status": "ok",
     "timestamp": 1679000869619,
     "user": {
      "displayName": "Y L",
      "userId": "10906315492438391707"
     },
     "user_tz": 420
    },
    "id": "LPbFlv6sQj4a",
    "outputId": "157b7f06-c096-479f-f8d3-3b55ef41bf63",
    "papermill": {
     "duration": 0.045896,
     "end_time": "2023-03-22T01:00:10.388900",
     "exception": false,
     "start_time": "2023-03-22T01:00:10.343004",
     "status": "completed"
    },
    "tags": []
   },
   "outputs": [
    {
     "name": "stdout",
     "output_type": "stream",
     "text": [
      "<class 'pandas.core.frame.DataFrame'>\n",
      "RangeIndex: 891 entries, 0 to 890\n",
      "Data columns (total 5 columns):\n",
      " #   Column    Non-Null Count  Dtype  \n",
      "---  ------    --------------  -----  \n",
      " 0   Sex       891 non-null    object \n",
      " 1   Age       714 non-null    float64\n",
      " 2   Fare      891 non-null    float64\n",
      " 3   Pclass    891 non-null    int64  \n",
      " 4   Survived  891 non-null    int64  \n",
      "dtypes: float64(2), int64(2), object(1)\n",
      "memory usage: 34.9+ KB\n"
     ]
    }
   ],
   "source": [
    "train_df.info()"
   ]
  },
  {
   "cell_type": "code",
   "execution_count": 6,
   "id": "32a7e19e",
   "metadata": {
    "execution": {
     "iopub.execute_input": "2023-03-22T01:00:10.425346Z",
     "iopub.status.busy": "2023-03-22T01:00:10.424859Z",
     "iopub.status.idle": "2023-03-22T01:00:10.442470Z",
     "shell.execute_reply": "2023-03-22T01:00:10.439817Z"
    },
    "executionInfo": {
     "elapsed": 141,
     "status": "ok",
     "timestamp": 1679000871534,
     "user": {
      "displayName": "Y L",
      "userId": "10906315492438391707"
     },
     "user_tz": 420
    },
    "id": "wSztbCbtQj4a",
    "outputId": "11f4edf3-a5b1-4046-bf21-e91597096135",
    "papermill": {
     "duration": 0.03906,
     "end_time": "2023-03-22T01:00:10.445657",
     "exception": false,
     "start_time": "2023-03-22T01:00:10.406597",
     "status": "completed"
    },
    "tags": []
   },
   "outputs": [
    {
     "name": "stdout",
     "output_type": "stream",
     "text": [
      "<class 'pandas.core.frame.DataFrame'>\n",
      "RangeIndex: 418 entries, 0 to 417\n",
      "Data columns (total 4 columns):\n",
      " #   Column  Non-Null Count  Dtype  \n",
      "---  ------  --------------  -----  \n",
      " 0   Sex     418 non-null    object \n",
      " 1   Age     332 non-null    float64\n",
      " 2   Fare    417 non-null    float64\n",
      " 3   Pclass  418 non-null    int64  \n",
      "dtypes: float64(2), int64(1), object(1)\n",
      "memory usage: 13.2+ KB\n"
     ]
    }
   ],
   "source": [
    "test_df.info()"
   ]
  },
  {
   "cell_type": "code",
   "execution_count": 7,
   "id": "83a8a80c",
   "metadata": {
    "execution": {
     "iopub.execute_input": "2023-03-22T01:00:10.480056Z",
     "iopub.status.busy": "2023-03-22T01:00:10.479592Z",
     "iopub.status.idle": "2023-03-22T01:00:10.494577Z",
     "shell.execute_reply": "2023-03-22T01:00:10.493306Z"
    },
    "executionInfo": {
     "elapsed": 155,
     "status": "ok",
     "timestamp": 1679000873123,
     "user": {
      "displayName": "Y L",
      "userId": "10906315492438391707"
     },
     "user_tz": 420
    },
    "id": "MTkZ7h4VQj4a",
    "outputId": "c8fcca6b-513a-4163-b3e8-00082c2fb9c4",
    "papermill": {
     "duration": 0.035524,
     "end_time": "2023-03-22T01:00:10.497045",
     "exception": false,
     "start_time": "2023-03-22T01:00:10.461521",
     "status": "completed"
    },
    "tags": []
   },
   "outputs": [
    {
     "data": {
      "text/html": [
       "<div>\n",
       "<style scoped>\n",
       "    .dataframe tbody tr th:only-of-type {\n",
       "        vertical-align: middle;\n",
       "    }\n",
       "\n",
       "    .dataframe tbody tr th {\n",
       "        vertical-align: top;\n",
       "    }\n",
       "\n",
       "    .dataframe thead th {\n",
       "        text-align: right;\n",
       "    }\n",
       "</style>\n",
       "<table border=\"1\" class=\"dataframe\">\n",
       "  <thead>\n",
       "    <tr style=\"text-align: right;\">\n",
       "      <th></th>\n",
       "      <th>Survived</th>\n",
       "      <th>count</th>\n",
       "    </tr>\n",
       "  </thead>\n",
       "  <tbody>\n",
       "    <tr>\n",
       "      <th>0</th>\n",
       "      <td>0</td>\n",
       "      <td>549</td>\n",
       "    </tr>\n",
       "    <tr>\n",
       "      <th>1</th>\n",
       "      <td>1</td>\n",
       "      <td>342</td>\n",
       "    </tr>\n",
       "  </tbody>\n",
       "</table>\n",
       "</div>"
      ],
      "text/plain": [
       "   Survived  count\n",
       "0         0    549\n",
       "1         1    342"
      ]
     },
     "execution_count": 7,
     "metadata": {},
     "output_type": "execute_result"
    }
   ],
   "source": [
    "freq_table = train_df.groupby(['Survived']).size().reset_index(name='count').rename(columns={'Survived':'Survived'}) #to count the amount of value for a variable\n",
    "freq_table"
   ]
  },
  {
   "cell_type": "code",
   "execution_count": 8,
   "id": "efae4ad4",
   "metadata": {
    "execution": {
     "iopub.execute_input": "2023-03-22T01:00:10.531458Z",
     "iopub.status.busy": "2023-03-22T01:00:10.531007Z",
     "iopub.status.idle": "2023-03-22T01:00:10.543968Z",
     "shell.execute_reply": "2023-03-22T01:00:10.542691Z"
    },
    "executionInfo": {
     "elapsed": 172,
     "status": "ok",
     "timestamp": 1679000874813,
     "user": {
      "displayName": "Y L",
      "userId": "10906315492438391707"
     },
     "user_tz": 420
    },
    "id": "oI_DIIf8Qj4b",
    "outputId": "285188ed-6d8f-45fe-fdfd-f4dc5d44315d",
    "papermill": {
     "duration": 0.03402,
     "end_time": "2023-03-22T01:00:10.546568",
     "exception": false,
     "start_time": "2023-03-22T01:00:10.512548",
     "status": "completed"
    },
    "tags": []
   },
   "outputs": [
    {
     "data": {
      "text/html": [
       "<div>\n",
       "<style scoped>\n",
       "    .dataframe tbody tr th:only-of-type {\n",
       "        vertical-align: middle;\n",
       "    }\n",
       "\n",
       "    .dataframe tbody tr th {\n",
       "        vertical-align: top;\n",
       "    }\n",
       "\n",
       "    .dataframe thead th {\n",
       "        text-align: right;\n",
       "    }\n",
       "</style>\n",
       "<table border=\"1\" class=\"dataframe\">\n",
       "  <thead>\n",
       "    <tr style=\"text-align: right;\">\n",
       "      <th></th>\n",
       "      <th>Survived</th>\n",
       "      <th>count</th>\n",
       "      <th>count%</th>\n",
       "    </tr>\n",
       "  </thead>\n",
       "  <tbody>\n",
       "    <tr>\n",
       "      <th>0</th>\n",
       "      <td>0</td>\n",
       "      <td>549</td>\n",
       "      <td>61.616162</td>\n",
       "    </tr>\n",
       "    <tr>\n",
       "      <th>1</th>\n",
       "      <td>1</td>\n",
       "      <td>342</td>\n",
       "      <td>38.383838</td>\n",
       "    </tr>\n",
       "  </tbody>\n",
       "</table>\n",
       "</div>"
      ],
      "text/plain": [
       "   Survived  count     count%\n",
       "0         0    549  61.616162\n",
       "1         1    342  38.383838"
      ]
     },
     "execution_count": 8,
     "metadata": {},
     "output_type": "execute_result"
    }
   ],
   "source": [
    "#To create a count percentage column and check the percentages\n",
    "freq_table['count%']= freq_table['count']/sum(freq_table['count'])*100\n",
    "freq_table"
   ]
  },
  {
   "cell_type": "code",
   "execution_count": 9,
   "id": "613b9c20",
   "metadata": {
    "execution": {
     "iopub.execute_input": "2023-03-22T01:00:10.580029Z",
     "iopub.status.busy": "2023-03-22T01:00:10.579589Z",
     "iopub.status.idle": "2023-03-22T01:00:10.589565Z",
     "shell.execute_reply": "2023-03-22T01:00:10.588131Z"
    },
    "executionInfo": {
     "elapsed": 159,
     "status": "ok",
     "timestamp": 1679000879517,
     "user": {
      "displayName": "Y L",
      "userId": "10906315492438391707"
     },
     "user_tz": 420
    },
    "id": "qSoo_VFTQj4b",
    "outputId": "143aeb4d-1b32-46ac-8d0c-6884190225c1",
    "papermill": {
     "duration": 0.030135,
     "end_time": "2023-03-22T01:00:10.592416",
     "exception": false,
     "start_time": "2023-03-22T01:00:10.562281",
     "status": "completed"
    },
    "tags": []
   },
   "outputs": [
    {
     "data": {
      "text/plain": [
       "Sex           0\n",
       "Age         177\n",
       "Fare          0\n",
       "Pclass        0\n",
       "Survived      0\n",
       "dtype: int64"
      ]
     },
     "execution_count": 9,
     "metadata": {},
     "output_type": "execute_result"
    }
   ],
   "source": [
    "train_df.isnull().sum()\n"
   ]
  },
  {
   "cell_type": "code",
   "execution_count": 10,
   "id": "d66889ba",
   "metadata": {
    "execution": {
     "iopub.execute_input": "2023-03-22T01:00:10.625749Z",
     "iopub.status.busy": "2023-03-22T01:00:10.625296Z",
     "iopub.status.idle": "2023-03-22T01:00:10.634734Z",
     "shell.execute_reply": "2023-03-22T01:00:10.633803Z"
    },
    "executionInfo": {
     "elapsed": 161,
     "status": "ok",
     "timestamp": 1679000881337,
     "user": {
      "displayName": "Y L",
      "userId": "10906315492438391707"
     },
     "user_tz": 420
    },
    "id": "4AClSANiQj4b",
    "outputId": "15fad96a-4425-4611-dd99-72eb79153b00",
    "papermill": {
     "duration": 0.02901,
     "end_time": "2023-03-22T01:00:10.637158",
     "exception": false,
     "start_time": "2023-03-22T01:00:10.608148",
     "status": "completed"
    },
    "tags": []
   },
   "outputs": [
    {
     "data": {
      "text/plain": [
       "Sex        0\n",
       "Age       86\n",
       "Fare       1\n",
       "Pclass     0\n",
       "dtype: int64"
      ]
     },
     "execution_count": 10,
     "metadata": {},
     "output_type": "execute_result"
    }
   ],
   "source": [
    "test_df.isnull().sum()"
   ]
  },
  {
   "cell_type": "code",
   "execution_count": 11,
   "id": "135b2407",
   "metadata": {
    "execution": {
     "iopub.execute_input": "2023-03-22T01:00:10.670971Z",
     "iopub.status.busy": "2023-03-22T01:00:10.670523Z",
     "iopub.status.idle": "2023-03-22T01:00:10.688402Z",
     "shell.execute_reply": "2023-03-22T01:00:10.686647Z"
    },
    "executionInfo": {
     "elapsed": 150,
     "status": "ok",
     "timestamp": 1679000883135,
     "user": {
      "displayName": "Y L",
      "userId": "10906315492438391707"
     },
     "user_tz": 420
    },
    "id": "A6z8p_DoQj4c",
    "outputId": "a86f2ab2-aa0a-4aab-89fc-7428976d241f",
    "papermill": {
     "duration": 0.038371,
     "end_time": "2023-03-22T01:00:10.691360",
     "exception": false,
     "start_time": "2023-03-22T01:00:10.652989",
     "status": "completed"
    },
    "tags": []
   },
   "outputs": [
    {
     "data": {
      "text/html": [
       "<div>\n",
       "<style scoped>\n",
       "    .dataframe tbody tr th:only-of-type {\n",
       "        vertical-align: middle;\n",
       "    }\n",
       "\n",
       "    .dataframe tbody tr th {\n",
       "        vertical-align: top;\n",
       "    }\n",
       "\n",
       "    .dataframe thead th {\n",
       "        text-align: right;\n",
       "    }\n",
       "</style>\n",
       "<table border=\"1\" class=\"dataframe\">\n",
       "  <thead>\n",
       "    <tr style=\"text-align: right;\">\n",
       "      <th></th>\n",
       "      <th>Age</th>\n",
       "      <th>Fare</th>\n",
       "      <th>Pclass</th>\n",
       "      <th>Survived</th>\n",
       "    </tr>\n",
       "  </thead>\n",
       "  <tbody>\n",
       "    <tr>\n",
       "      <th>Age</th>\n",
       "      <td>1.000000</td>\n",
       "      <td>0.096067</td>\n",
       "      <td>-0.369226</td>\n",
       "      <td>-0.077221</td>\n",
       "    </tr>\n",
       "    <tr>\n",
       "      <th>Fare</th>\n",
       "      <td>0.096067</td>\n",
       "      <td>1.000000</td>\n",
       "      <td>-0.549500</td>\n",
       "      <td>0.257307</td>\n",
       "    </tr>\n",
       "    <tr>\n",
       "      <th>Pclass</th>\n",
       "      <td>-0.369226</td>\n",
       "      <td>-0.549500</td>\n",
       "      <td>1.000000</td>\n",
       "      <td>-0.338481</td>\n",
       "    </tr>\n",
       "    <tr>\n",
       "      <th>Survived</th>\n",
       "      <td>-0.077221</td>\n",
       "      <td>0.257307</td>\n",
       "      <td>-0.338481</td>\n",
       "      <td>1.000000</td>\n",
       "    </tr>\n",
       "  </tbody>\n",
       "</table>\n",
       "</div>"
      ],
      "text/plain": [
       "               Age      Fare    Pclass  Survived\n",
       "Age       1.000000  0.096067 -0.369226 -0.077221\n",
       "Fare      0.096067  1.000000 -0.549500  0.257307\n",
       "Pclass   -0.369226 -0.549500  1.000000 -0.338481\n",
       "Survived -0.077221  0.257307 -0.338481  1.000000"
      ]
     },
     "execution_count": 11,
     "metadata": {},
     "output_type": "execute_result"
    }
   ],
   "source": [
    "train_df.corr()\n"
   ]
  },
  {
   "cell_type": "code",
   "execution_count": 12,
   "id": "c31a8a6e",
   "metadata": {
    "execution": {
     "iopub.execute_input": "2023-03-22T01:00:10.729290Z",
     "iopub.status.busy": "2023-03-22T01:00:10.728869Z",
     "iopub.status.idle": "2023-03-22T01:00:10.752581Z",
     "shell.execute_reply": "2023-03-22T01:00:10.750251Z"
    },
    "executionInfo": {
     "elapsed": 163,
     "status": "ok",
     "timestamp": 1679000887869,
     "user": {
      "displayName": "Y L",
      "userId": "10906315492438391707"
     },
     "user_tz": 420
    },
    "id": "4AwFSac7Qj4c",
    "outputId": "cfb9020f-0109-49a7-dda4-1b7e7f8ab84c",
    "papermill": {
     "duration": 0.046234,
     "end_time": "2023-03-22T01:00:10.755862",
     "exception": false,
     "start_time": "2023-03-22T01:00:10.709628",
     "status": "completed"
    },
    "scrolled": true,
    "tags": []
   },
   "outputs": [
    {
     "name": "stdout",
     "output_type": "stream",
     "text": [
      "<class 'pandas.core.frame.DataFrame'>\n",
      "RangeIndex: 891 entries, 0 to 890\n",
      "Data columns (total 5 columns):\n",
      " #   Column    Non-Null Count  Dtype  \n",
      "---  ------    --------------  -----  \n",
      " 0   Sex       891 non-null    object \n",
      " 1   Age       891 non-null    float64\n",
      " 2   Fare      891 non-null    float64\n",
      " 3   Pclass    891 non-null    int64  \n",
      " 4   Survived  891 non-null    int64  \n",
      "dtypes: float64(2), int64(2), object(1)\n",
      "memory usage: 34.9+ KB\n"
     ]
    },
    {
     "name": "stderr",
     "output_type": "stream",
     "text": [
      "/opt/conda/lib/python3.7/site-packages/pandas/core/generic.py:6392: SettingWithCopyWarning: \n",
      "A value is trying to be set on a copy of a slice from a DataFrame\n",
      "\n",
      "See the caveats in the documentation: https://pandas.pydata.org/pandas-docs/stable/user_guide/indexing.html#returning-a-view-versus-a-copy\n",
      "  return self._update_inplace(result)\n"
     ]
    }
   ],
   "source": [
    "train_df['Age'].fillna(value=(train_df['Age'].mean()),inplace=True)\n",
    "train_df.info()\n"
   ]
  },
  {
   "cell_type": "code",
   "execution_count": 13,
   "id": "4c12e4f3",
   "metadata": {
    "execution": {
     "iopub.execute_input": "2023-03-22T01:00:10.796587Z",
     "iopub.status.busy": "2023-03-22T01:00:10.796102Z",
     "iopub.status.idle": "2023-03-22T01:00:10.817067Z",
     "shell.execute_reply": "2023-03-22T01:00:10.815398Z"
    },
    "executionInfo": {
     "elapsed": 438,
     "status": "ok",
     "timestamp": 1679000890799,
     "user": {
      "displayName": "Y L",
      "userId": "10906315492438391707"
     },
     "user_tz": 420
    },
    "id": "bEdSZKY4Qj4d",
    "outputId": "4fb39ece-78c0-4efd-d02b-c3836fe843be",
    "papermill": {
     "duration": 0.044138,
     "end_time": "2023-03-22T01:00:10.820073",
     "exception": false,
     "start_time": "2023-03-22T01:00:10.775935",
     "status": "completed"
    },
    "tags": []
   },
   "outputs": [
    {
     "name": "stdout",
     "output_type": "stream",
     "text": [
      "<class 'pandas.core.frame.DataFrame'>\n",
      "RangeIndex: 418 entries, 0 to 417\n",
      "Data columns (total 4 columns):\n",
      " #   Column  Non-Null Count  Dtype  \n",
      "---  ------  --------------  -----  \n",
      " 0   Sex     418 non-null    object \n",
      " 1   Age     418 non-null    float64\n",
      " 2   Fare    418 non-null    float64\n",
      " 3   Pclass  418 non-null    int64  \n",
      "dtypes: float64(2), int64(1), object(1)\n",
      "memory usage: 13.2+ KB\n"
     ]
    }
   ],
   "source": [
    "test_df['Age'].fillna(value=(test_df['Age'].mean()),inplace=True)\n",
    "test_df['Fare'].fillna(value=(test_df['Fare'].mean()),inplace=True)\n",
    "\n",
    "test_df.info()"
   ]
  },
  {
   "cell_type": "code",
   "execution_count": 14,
   "id": "b155bdfb",
   "metadata": {
    "execution": {
     "iopub.execute_input": "2023-03-22T01:00:10.858847Z",
     "iopub.status.busy": "2023-03-22T01:00:10.857769Z",
     "iopub.status.idle": "2023-03-22T01:00:10.874734Z",
     "shell.execute_reply": "2023-03-22T01:00:10.872916Z"
    },
    "papermill": {
     "duration": 0.04124,
     "end_time": "2023-03-22T01:00:10.879015",
     "exception": false,
     "start_time": "2023-03-22T01:00:10.837775",
     "status": "completed"
    },
    "tags": []
   },
   "outputs": [],
   "source": [
    "#Get dummies for Age variable\n",
    "train_df = pd.get_dummies(train_df, columns=['Sex' ], drop_first=True)\n",
    "test_df = pd.get_dummies(test_df, columns=['Sex' ], drop_first=True)"
   ]
  },
  {
   "cell_type": "code",
   "execution_count": 15,
   "id": "136c3fdf",
   "metadata": {
    "execution": {
     "iopub.execute_input": "2023-03-22T01:00:10.920753Z",
     "iopub.status.busy": "2023-03-22T01:00:10.920289Z",
     "iopub.status.idle": "2023-03-22T01:00:10.938077Z",
     "shell.execute_reply": "2023-03-22T01:00:10.936953Z"
    },
    "papermill": {
     "duration": 0.041708,
     "end_time": "2023-03-22T01:00:10.941534",
     "exception": false,
     "start_time": "2023-03-22T01:00:10.899826",
     "status": "completed"
    },
    "tags": []
   },
   "outputs": [
    {
     "name": "stdout",
     "output_type": "stream",
     "text": [
      "<class 'pandas.core.frame.DataFrame'>\n",
      "RangeIndex: 418 entries, 0 to 417\n",
      "Data columns (total 4 columns):\n",
      " #   Column    Non-Null Count  Dtype  \n",
      "---  ------    --------------  -----  \n",
      " 0   Age       418 non-null    float64\n",
      " 1   Fare      418 non-null    float64\n",
      " 2   Pclass    418 non-null    int64  \n",
      " 3   Sex_male  418 non-null    uint8  \n",
      "dtypes: float64(2), int64(1), uint8(1)\n",
      "memory usage: 10.3 KB\n"
     ]
    }
   ],
   "source": [
    "\n",
    "#train_df['Age'] = train_df['Age'].astype('category')\n",
    "#train_df.info()\n",
    "\n",
    "\n",
    "#test_df['Age'] = test_df['Age'].astype('category')\n",
    "#test_df['Fare'] = test_df['Fare'].astype('category')\n",
    "test_df.info()"
   ]
  },
  {
   "cell_type": "code",
   "execution_count": 16,
   "id": "b2a5810f",
   "metadata": {
    "execution": {
     "iopub.execute_input": "2023-03-22T01:00:10.977303Z",
     "iopub.status.busy": "2023-03-22T01:00:10.976884Z",
     "iopub.status.idle": "2023-03-22T01:00:10.984725Z",
     "shell.execute_reply": "2023-03-22T01:00:10.983369Z"
    },
    "id": "62Uljeu2XxyT",
    "papermill": {
     "duration": 0.029079,
     "end_time": "2023-03-22T01:00:10.987458",
     "exception": false,
     "start_time": "2023-03-22T01:00:10.958379",
     "status": "completed"
    },
    "tags": []
   },
   "outputs": [],
   "source": [
    "#Split data into predictors and target variables\n",
    "target = train_df['Survived']\n",
    "predictors = train_df.drop(['Survived'], axis=1)"
   ]
  },
  {
   "cell_type": "code",
   "execution_count": 17,
   "id": "1cfe12e7",
   "metadata": {
    "execution": {
     "iopub.execute_input": "2023-03-22T01:00:11.024765Z",
     "iopub.status.busy": "2023-03-22T01:00:11.024288Z",
     "iopub.status.idle": "2023-03-22T01:00:11.036125Z",
     "shell.execute_reply": "2023-03-22T01:00:11.034770Z"
    },
    "executionInfo": {
     "elapsed": 292,
     "status": "ok",
     "timestamp": 1679012814392,
     "user": {
      "displayName": "Y L",
      "userId": "10906315492438391707"
     },
     "user_tz": 420
    },
    "id": "8X_4f9LVQj4d",
    "papermill": {
     "duration": 0.035055,
     "end_time": "2023-03-22T01:00:11.039471",
     "exception": false,
     "start_time": "2023-03-22T01:00:11.004416",
     "status": "completed"
    },
    "tags": []
   },
   "outputs": [],
   "source": [
    "#Train and test sets\n",
    "predictors_train_df, predictors_test_df, target_train_df, target_test_df = train_test_split(predictors, target, test_size=0.5, random_state=0)"
   ]
  },
  {
   "cell_type": "markdown",
   "id": "3f9fa2e2",
   "metadata": {
    "papermill": {
     "duration": 0.017025,
     "end_time": "2023-03-22T01:00:11.074544",
     "exception": false,
     "start_time": "2023-03-22T01:00:11.057519",
     "status": "completed"
    },
    "tags": []
   },
   "source": [
    "## Use only Age, Sex, fare, and Pclass"
   ]
  },
  {
   "cell_type": "markdown",
   "id": "b7d99168",
   "metadata": {
    "papermill": {
     "duration": 0.017983,
     "end_time": "2023-03-22T01:00:11.110318",
     "exception": false,
     "start_time": "2023-03-22T01:00:11.092335",
     "status": "completed"
    },
    "tags": []
   },
   "source": [
    "## Logistic Model"
   ]
  },
  {
   "cell_type": "code",
   "execution_count": 18,
   "id": "b36ad50d",
   "metadata": {
    "execution": {
     "iopub.execute_input": "2023-03-22T01:00:11.147683Z",
     "iopub.status.busy": "2023-03-22T01:00:11.146825Z",
     "iopub.status.idle": "2023-03-22T01:00:11.153215Z",
     "shell.execute_reply": "2023-03-22T01:00:11.151805Z"
    },
    "executionInfo": {
     "elapsed": 8,
     "status": "ok",
     "timestamp": 1679006083204,
     "user": {
      "displayName": "Y L",
      "userId": "10906315492438391707"
     },
     "user_tz": 420
    },
    "id": "QhpMUvKEQj4e",
    "papermill": {
     "duration": 0.028519,
     "end_time": "2023-03-22T01:00:11.156229",
     "exception": false,
     "start_time": "2023-03-22T01:00:11.127710",
     "status": "completed"
    },
    "tags": []
   },
   "outputs": [],
   "source": [
    "modellog=linear_model.LogisticRegression(penalty='none')"
   ]
  },
  {
   "cell_type": "code",
   "execution_count": 19,
   "id": "69b4d462",
   "metadata": {
    "execution": {
     "iopub.execute_input": "2023-03-22T01:00:11.196952Z",
     "iopub.status.busy": "2023-03-22T01:00:11.196046Z",
     "iopub.status.idle": "2023-03-22T01:00:11.231019Z",
     "shell.execute_reply": "2023-03-22T01:00:11.229234Z"
    },
    "executionInfo": {
     "elapsed": 176,
     "status": "ok",
     "timestamp": 1679008761927,
     "user": {
      "displayName": "Y L",
      "userId": "10906315492438391707"
     },
     "user_tz": 420
    },
    "id": "Iey5myRzQj4e",
    "outputId": "8f2459d9-6d04-4e34-becd-daf4864d5e6a",
    "papermill": {
     "duration": 0.059035,
     "end_time": "2023-03-22T01:00:11.234072",
     "exception": false,
     "start_time": "2023-03-22T01:00:11.175037",
     "status": "completed"
    },
    "tags": []
   },
   "outputs": [
    {
     "data": {
      "text/plain": [
       "LogisticRegression(penalty='none')"
      ]
     },
     "execution_count": 19,
     "metadata": {},
     "output_type": "execute_result"
    }
   ],
   "source": [
    "modellog.fit(predictors_train_df,target_train_df)"
   ]
  },
  {
   "cell_type": "code",
   "execution_count": 20,
   "id": "87fd7f50",
   "metadata": {
    "execution": {
     "iopub.execute_input": "2023-03-22T01:00:11.270590Z",
     "iopub.status.busy": "2023-03-22T01:00:11.270158Z",
     "iopub.status.idle": "2023-03-22T01:00:11.292852Z",
     "shell.execute_reply": "2023-03-22T01:00:11.291549Z"
    },
    "executionInfo": {
     "elapsed": 134,
     "status": "ok",
     "timestamp": 1679008802254,
     "user": {
      "displayName": "Y L",
      "userId": "10906315492438391707"
     },
     "user_tz": 420
    },
    "id": "MZKsRg_gXVK7",
    "papermill": {
     "duration": 0.044827,
     "end_time": "2023-03-22T01:00:11.296282",
     "exception": false,
     "start_time": "2023-03-22T01:00:11.251455",
     "status": "completed"
    },
    "tags": []
   },
   "outputs": [],
   "source": [
    "training=classification_report(modellog.predict(predictors_train_df),target_train_df,output_dict=True)\n",
    "testing=classification_report(modellog.predict(predictors_test_df),target_test_df,output_dict=True)\n"
   ]
  },
  {
   "cell_type": "code",
   "execution_count": 21,
   "id": "d51af25c",
   "metadata": {
    "execution": {
     "iopub.execute_input": "2023-03-22T01:00:11.332768Z",
     "iopub.status.busy": "2023-03-22T01:00:11.332262Z",
     "iopub.status.idle": "2023-03-22T01:00:11.348158Z",
     "shell.execute_reply": "2023-03-22T01:00:11.346863Z"
    },
    "executionInfo": {
     "elapsed": 328,
     "status": "ok",
     "timestamp": 1679008804759,
     "user": {
      "displayName": "Y L",
      "userId": "10906315492438391707"
     },
     "user_tz": 420
    },
    "id": "VRVXIcIajqEw",
    "outputId": "52b2494e-1264-444c-8eee-c8a170d39af0",
    "papermill": {
     "duration": 0.037276,
     "end_time": "2023-03-22T01:00:11.350390",
     "exception": false,
     "start_time": "2023-03-22T01:00:11.313114",
     "status": "completed"
    },
    "tags": []
   },
   "outputs": [
    {
     "data": {
      "text/html": [
       "<div>\n",
       "<style scoped>\n",
       "    .dataframe tbody tr th:only-of-type {\n",
       "        vertical-align: middle;\n",
       "    }\n",
       "\n",
       "    .dataframe tbody tr th {\n",
       "        vertical-align: top;\n",
       "    }\n",
       "\n",
       "    .dataframe thead th {\n",
       "        text-align: right;\n",
       "    }\n",
       "</style>\n",
       "<table border=\"1\" class=\"dataframe\">\n",
       "  <thead>\n",
       "    <tr style=\"text-align: right;\">\n",
       "      <th></th>\n",
       "      <th>0</th>\n",
       "      <th>1</th>\n",
       "      <th>accuracy</th>\n",
       "      <th>macro avg</th>\n",
       "      <th>weighted avg</th>\n",
       "    </tr>\n",
       "  </thead>\n",
       "  <tbody>\n",
       "    <tr>\n",
       "      <th>precision</th>\n",
       "      <td>0.860902</td>\n",
       "      <td>0.715084</td>\n",
       "      <td>0.802247</td>\n",
       "      <td>0.787993</td>\n",
       "      <td>0.806835</td>\n",
       "    </tr>\n",
       "    <tr>\n",
       "      <th>recall</th>\n",
       "      <td>0.817857</td>\n",
       "      <td>0.775758</td>\n",
       "      <td>0.802247</td>\n",
       "      <td>0.796807</td>\n",
       "      <td>0.802247</td>\n",
       "    </tr>\n",
       "    <tr>\n",
       "      <th>f1-score</th>\n",
       "      <td>0.838828</td>\n",
       "      <td>0.744186</td>\n",
       "      <td>0.802247</td>\n",
       "      <td>0.791507</td>\n",
       "      <td>0.803736</td>\n",
       "    </tr>\n",
       "    <tr>\n",
       "      <th>support</th>\n",
       "      <td>280.000000</td>\n",
       "      <td>165.000000</td>\n",
       "      <td>0.802247</td>\n",
       "      <td>445.000000</td>\n",
       "      <td>445.000000</td>\n",
       "    </tr>\n",
       "  </tbody>\n",
       "</table>\n",
       "</div>"
      ],
      "text/plain": [
       "                    0           1  accuracy   macro avg  weighted avg\n",
       "precision    0.860902    0.715084  0.802247    0.787993      0.806835\n",
       "recall       0.817857    0.775758  0.802247    0.796807      0.802247\n",
       "f1-score     0.838828    0.744186  0.802247    0.791507      0.803736\n",
       "support    280.000000  165.000000  0.802247  445.000000    445.000000"
      ]
     },
     "execution_count": 21,
     "metadata": {},
     "output_type": "execute_result"
    }
   ],
   "source": [
    "#training results\n",
    "pd.DataFrame(training)"
   ]
  },
  {
   "cell_type": "code",
   "execution_count": 22,
   "id": "3813eef4",
   "metadata": {
    "execution": {
     "iopub.execute_input": "2023-03-22T01:00:11.388901Z",
     "iopub.status.busy": "2023-03-22T01:00:11.388466Z",
     "iopub.status.idle": "2023-03-22T01:00:11.403533Z",
     "shell.execute_reply": "2023-03-22T01:00:11.402188Z"
    },
    "executionInfo": {
     "elapsed": 144,
     "status": "ok",
     "timestamp": 1679008809341,
     "user": {
      "displayName": "Y L",
      "userId": "10906315492438391707"
     },
     "user_tz": 420
    },
    "id": "dobHNbCVjqcz",
    "outputId": "bffad4ac-07a2-4cdc-bb59-ece284e98ed7",
    "papermill": {
     "duration": 0.036622,
     "end_time": "2023-03-22T01:00:11.406358",
     "exception": false,
     "start_time": "2023-03-22T01:00:11.369736",
     "status": "completed"
    },
    "tags": []
   },
   "outputs": [
    {
     "data": {
      "text/html": [
       "<div>\n",
       "<style scoped>\n",
       "    .dataframe tbody tr th:only-of-type {\n",
       "        vertical-align: middle;\n",
       "    }\n",
       "\n",
       "    .dataframe tbody tr th {\n",
       "        vertical-align: top;\n",
       "    }\n",
       "\n",
       "    .dataframe thead th {\n",
       "        text-align: right;\n",
       "    }\n",
       "</style>\n",
       "<table border=\"1\" class=\"dataframe\">\n",
       "  <thead>\n",
       "    <tr style=\"text-align: right;\">\n",
       "      <th></th>\n",
       "      <th>0</th>\n",
       "      <th>1</th>\n",
       "      <th>accuracy</th>\n",
       "      <th>macro avg</th>\n",
       "      <th>weighted avg</th>\n",
       "    </tr>\n",
       "  </thead>\n",
       "  <tbody>\n",
       "    <tr>\n",
       "      <th>precision</th>\n",
       "      <td>0.823322</td>\n",
       "      <td>0.705521</td>\n",
       "      <td>0.780269</td>\n",
       "      <td>0.764422</td>\n",
       "      <td>0.779741</td>\n",
       "    </tr>\n",
       "    <tr>\n",
       "      <th>recall</th>\n",
       "      <td>0.829181</td>\n",
       "      <td>0.696970</td>\n",
       "      <td>0.780269</td>\n",
       "      <td>0.763076</td>\n",
       "      <td>0.780269</td>\n",
       "    </tr>\n",
       "    <tr>\n",
       "      <th>f1-score</th>\n",
       "      <td>0.826241</td>\n",
       "      <td>0.701220</td>\n",
       "      <td>0.780269</td>\n",
       "      <td>0.763730</td>\n",
       "      <td>0.779989</td>\n",
       "    </tr>\n",
       "    <tr>\n",
       "      <th>support</th>\n",
       "      <td>281.000000</td>\n",
       "      <td>165.000000</td>\n",
       "      <td>0.780269</td>\n",
       "      <td>446.000000</td>\n",
       "      <td>446.000000</td>\n",
       "    </tr>\n",
       "  </tbody>\n",
       "</table>\n",
       "</div>"
      ],
      "text/plain": [
       "                    0           1  accuracy   macro avg  weighted avg\n",
       "precision    0.823322    0.705521  0.780269    0.764422      0.779741\n",
       "recall       0.829181    0.696970  0.780269    0.763076      0.780269\n",
       "f1-score     0.826241    0.701220  0.780269    0.763730      0.779989\n",
       "support    281.000000  165.000000  0.780269  446.000000    446.000000"
      ]
     },
     "execution_count": 22,
     "metadata": {},
     "output_type": "execute_result"
    }
   ],
   "source": [
    "#test results\n",
    "pd.DataFrame(testing)"
   ]
  },
  {
   "cell_type": "markdown",
   "id": "d0916faf",
   "metadata": {
    "papermill": {
     "duration": 0.020022,
     "end_time": "2023-03-22T01:00:11.445182",
     "exception": false,
     "start_time": "2023-03-22T01:00:11.425160",
     "status": "completed"
    },
    "tags": []
   },
   "source": [
    "## Random Forest Model\n"
   ]
  },
  {
   "cell_type": "code",
   "execution_count": 23,
   "id": "747b2310",
   "metadata": {
    "execution": {
     "iopub.execute_input": "2023-03-22T01:00:11.487708Z",
     "iopub.status.busy": "2023-03-22T01:00:11.487226Z",
     "iopub.status.idle": "2023-03-22T01:00:11.493691Z",
     "shell.execute_reply": "2023-03-22T01:00:11.491711Z"
    },
    "executionInfo": {
     "elapsed": 141,
     "status": "ok",
     "timestamp": 1679009083637,
     "user": {
      "displayName": "Y L",
      "userId": "10906315492438391707"
     },
     "user_tz": 420
    },
    "id": "6iII804Ag3_t",
    "papermill": {
     "duration": 0.030548,
     "end_time": "2023-03-22T01:00:11.496570",
     "exception": false,
     "start_time": "2023-03-22T01:00:11.466022",
     "status": "completed"
    },
    "tags": []
   },
   "outputs": [],
   "source": [
    "model_RF=RandomForestClassifier(max_depth= 5, min_samples_leaf= 1, min_samples_split= 2)\n",
    "model_svm=SVC()"
   ]
  },
  {
   "cell_type": "code",
   "execution_count": 24,
   "id": "a6ebebeb",
   "metadata": {
    "execution": {
     "iopub.execute_input": "2023-03-22T01:00:11.539847Z",
     "iopub.status.busy": "2023-03-22T01:00:11.539310Z",
     "iopub.status.idle": "2023-03-22T01:00:11.723189Z",
     "shell.execute_reply": "2023-03-22T01:00:11.721857Z"
    },
    "executionInfo": {
     "elapsed": 452,
     "status": "ok",
     "timestamp": 1679012819366,
     "user": {
      "displayName": "Y L",
      "userId": "10906315492438391707"
     },
     "user_tz": 420
    },
    "id": "ocOGOWUdl1wZ",
    "outputId": "4e149e45-461a-41ee-f049-53e85d01d68d",
    "papermill": {
     "duration": 0.209356,
     "end_time": "2023-03-22T01:00:11.726046",
     "exception": false,
     "start_time": "2023-03-22T01:00:11.516690",
     "status": "completed"
    },
    "tags": []
   },
   "outputs": [
    {
     "data": {
      "text/plain": [
       "RandomForestClassifier(max_depth=5)"
      ]
     },
     "execution_count": 24,
     "metadata": {},
     "output_type": "execute_result"
    }
   ],
   "source": [
    "model_RF.fit(predictors_train_df,target_train_df)"
   ]
  },
  {
   "cell_type": "code",
   "execution_count": 25,
   "id": "c4d800bd",
   "metadata": {
    "execution": {
     "iopub.execute_input": "2023-03-22T01:00:11.764380Z",
     "iopub.status.busy": "2023-03-22T01:00:11.763921Z",
     "iopub.status.idle": "2023-03-22T01:00:11.818664Z",
     "shell.execute_reply": "2023-03-22T01:00:11.816692Z"
    },
    "papermill": {
     "duration": 0.078939,
     "end_time": "2023-03-22T01:00:11.821879",
     "exception": false,
     "start_time": "2023-03-22T01:00:11.742940",
     "status": "completed"
    },
    "tags": []
   },
   "outputs": [],
   "source": [
    "training=classification_report(model_RF.predict(predictors_train_df),target_train_df,output_dict=True)\n",
    "testing=classification_report(model_RF.predict(predictors_test_df),target_test_df,output_dict=True)"
   ]
  },
  {
   "cell_type": "code",
   "execution_count": 26,
   "id": "a3a1a570",
   "metadata": {
    "execution": {
     "iopub.execute_input": "2023-03-22T01:00:11.859355Z",
     "iopub.status.busy": "2023-03-22T01:00:11.858928Z",
     "iopub.status.idle": "2023-03-22T01:00:11.873529Z",
     "shell.execute_reply": "2023-03-22T01:00:11.872088Z"
    },
    "papermill": {
     "duration": 0.036045,
     "end_time": "2023-03-22T01:00:11.876262",
     "exception": false,
     "start_time": "2023-03-22T01:00:11.840217",
     "status": "completed"
    },
    "tags": []
   },
   "outputs": [
    {
     "data": {
      "text/html": [
       "<div>\n",
       "<style scoped>\n",
       "    .dataframe tbody tr th:only-of-type {\n",
       "        vertical-align: middle;\n",
       "    }\n",
       "\n",
       "    .dataframe tbody tr th {\n",
       "        vertical-align: top;\n",
       "    }\n",
       "\n",
       "    .dataframe thead th {\n",
       "        text-align: right;\n",
       "    }\n",
       "</style>\n",
       "<table border=\"1\" class=\"dataframe\">\n",
       "  <thead>\n",
       "    <tr style=\"text-align: right;\">\n",
       "      <th></th>\n",
       "      <th>0</th>\n",
       "      <th>1</th>\n",
       "      <th>accuracy</th>\n",
       "      <th>macro avg</th>\n",
       "      <th>weighted avg</th>\n",
       "    </tr>\n",
       "  </thead>\n",
       "  <tbody>\n",
       "    <tr>\n",
       "      <th>precision</th>\n",
       "      <td>0.928571</td>\n",
       "      <td>0.748603</td>\n",
       "      <td>0.85618</td>\n",
       "      <td>0.838587</td>\n",
       "      <td>0.866695</td>\n",
       "    </tr>\n",
       "    <tr>\n",
       "      <th>recall</th>\n",
       "      <td>0.845890</td>\n",
       "      <td>0.875817</td>\n",
       "      <td>0.85618</td>\n",
       "      <td>0.860854</td>\n",
       "      <td>0.856180</td>\n",
       "    </tr>\n",
       "    <tr>\n",
       "      <th>f1-score</th>\n",
       "      <td>0.885305</td>\n",
       "      <td>0.807229</td>\n",
       "      <td>0.85618</td>\n",
       "      <td>0.846267</td>\n",
       "      <td>0.858461</td>\n",
       "    </tr>\n",
       "    <tr>\n",
       "      <th>support</th>\n",
       "      <td>292.000000</td>\n",
       "      <td>153.000000</td>\n",
       "      <td>0.85618</td>\n",
       "      <td>445.000000</td>\n",
       "      <td>445.000000</td>\n",
       "    </tr>\n",
       "  </tbody>\n",
       "</table>\n",
       "</div>"
      ],
      "text/plain": [
       "                    0           1  accuracy   macro avg  weighted avg\n",
       "precision    0.928571    0.748603   0.85618    0.838587      0.866695\n",
       "recall       0.845890    0.875817   0.85618    0.860854      0.856180\n",
       "f1-score     0.885305    0.807229   0.85618    0.846267      0.858461\n",
       "support    292.000000  153.000000   0.85618  445.000000    445.000000"
      ]
     },
     "execution_count": 26,
     "metadata": {},
     "output_type": "execute_result"
    }
   ],
   "source": [
    "#training results\n",
    "pd.DataFrame(training)"
   ]
  },
  {
   "cell_type": "code",
   "execution_count": 27,
   "id": "4218a6fc",
   "metadata": {
    "execution": {
     "iopub.execute_input": "2023-03-22T01:00:11.914094Z",
     "iopub.status.busy": "2023-03-22T01:00:11.913662Z",
     "iopub.status.idle": "2023-03-22T01:00:11.928117Z",
     "shell.execute_reply": "2023-03-22T01:00:11.926884Z"
    },
    "papermill": {
     "duration": 0.036691,
     "end_time": "2023-03-22T01:00:11.930545",
     "exception": false,
     "start_time": "2023-03-22T01:00:11.893854",
     "status": "completed"
    },
    "tags": []
   },
   "outputs": [
    {
     "data": {
      "text/html": [
       "<div>\n",
       "<style scoped>\n",
       "    .dataframe tbody tr th:only-of-type {\n",
       "        vertical-align: middle;\n",
       "    }\n",
       "\n",
       "    .dataframe tbody tr th {\n",
       "        vertical-align: top;\n",
       "    }\n",
       "\n",
       "    .dataframe thead th {\n",
       "        text-align: right;\n",
       "    }\n",
       "</style>\n",
       "<table border=\"1\" class=\"dataframe\">\n",
       "  <thead>\n",
       "    <tr style=\"text-align: right;\">\n",
       "      <th></th>\n",
       "      <th>0</th>\n",
       "      <th>1</th>\n",
       "      <th>accuracy</th>\n",
       "      <th>macro avg</th>\n",
       "      <th>weighted avg</th>\n",
       "    </tr>\n",
       "  </thead>\n",
       "  <tbody>\n",
       "    <tr>\n",
       "      <th>precision</th>\n",
       "      <td>0.893993</td>\n",
       "      <td>0.680982</td>\n",
       "      <td>0.816143</td>\n",
       "      <td>0.787487</td>\n",
       "      <td>0.826651</td>\n",
       "    </tr>\n",
       "    <tr>\n",
       "      <th>recall</th>\n",
       "      <td>0.829508</td>\n",
       "      <td>0.787234</td>\n",
       "      <td>0.816143</td>\n",
       "      <td>0.808371</td>\n",
       "      <td>0.816143</td>\n",
       "    </tr>\n",
       "    <tr>\n",
       "      <th>f1-score</th>\n",
       "      <td>0.860544</td>\n",
       "      <td>0.730263</td>\n",
       "      <td>0.816143</td>\n",
       "      <td>0.795404</td>\n",
       "      <td>0.819357</td>\n",
       "    </tr>\n",
       "    <tr>\n",
       "      <th>support</th>\n",
       "      <td>305.000000</td>\n",
       "      <td>141.000000</td>\n",
       "      <td>0.816143</td>\n",
       "      <td>446.000000</td>\n",
       "      <td>446.000000</td>\n",
       "    </tr>\n",
       "  </tbody>\n",
       "</table>\n",
       "</div>"
      ],
      "text/plain": [
       "                    0           1  accuracy   macro avg  weighted avg\n",
       "precision    0.893993    0.680982  0.816143    0.787487      0.826651\n",
       "recall       0.829508    0.787234  0.816143    0.808371      0.816143\n",
       "f1-score     0.860544    0.730263  0.816143    0.795404      0.819357\n",
       "support    305.000000  141.000000  0.816143  446.000000    446.000000"
      ]
     },
     "execution_count": 27,
     "metadata": {},
     "output_type": "execute_result"
    }
   ],
   "source": [
    "pd.DataFrame(testing)"
   ]
  },
  {
   "cell_type": "markdown",
   "id": "71638a6b",
   "metadata": {
    "papermill": {
     "duration": 0.01678,
     "end_time": "2023-03-22T01:00:11.964540",
     "exception": false,
     "start_time": "2023-03-22T01:00:11.947760",
     "status": "completed"
    },
    "tags": []
   },
   "source": [
    "## Gradient Boosting Classifier"
   ]
  },
  {
   "cell_type": "code",
   "execution_count": 28,
   "id": "0d379ee5",
   "metadata": {
    "execution": {
     "iopub.execute_input": "2023-03-22T01:00:12.002496Z",
     "iopub.status.busy": "2023-03-22T01:00:12.002085Z",
     "iopub.status.idle": "2023-03-22T01:00:12.120513Z",
     "shell.execute_reply": "2023-03-22T01:00:12.119062Z"
    },
    "papermill": {
     "duration": 0.141429,
     "end_time": "2023-03-22T01:00:12.123190",
     "exception": false,
     "start_time": "2023-03-22T01:00:11.981761",
     "status": "completed"
    },
    "tags": []
   },
   "outputs": [
    {
     "data": {
      "text/plain": [
       "GradientBoostingClassifier()"
      ]
     },
     "execution_count": 28,
     "metadata": {},
     "output_type": "execute_result"
    }
   ],
   "source": [
    "model_XGB= GradientBoostingClassifier(max_depth= 3, min_samples_leaf= 1, min_samples_split= 2)\n",
    "model_XGB.fit(predictors,target)\n"
   ]
  },
  {
   "cell_type": "code",
   "execution_count": 29,
   "id": "f2b8e923",
   "metadata": {
    "execution": {
     "iopub.execute_input": "2023-03-22T01:00:12.161827Z",
     "iopub.status.busy": "2023-03-22T01:00:12.161023Z",
     "iopub.status.idle": "2023-03-22T01:00:12.184556Z",
     "shell.execute_reply": "2023-03-22T01:00:12.183163Z"
    },
    "papermill": {
     "duration": 0.046653,
     "end_time": "2023-03-22T01:00:12.187474",
     "exception": false,
     "start_time": "2023-03-22T01:00:12.140821",
     "status": "completed"
    },
    "tags": []
   },
   "outputs": [],
   "source": [
    "training=classification_report(model_XGB.predict(predictors),target,output_dict=True)\n",
    "testing=classification_report(model_XGB.predict(predictors_test_df),target_test_df,output_dict=True)"
   ]
  },
  {
   "cell_type": "code",
   "execution_count": 30,
   "id": "1f7fed1e",
   "metadata": {
    "execution": {
     "iopub.execute_input": "2023-03-22T01:00:12.225257Z",
     "iopub.status.busy": "2023-03-22T01:00:12.224806Z",
     "iopub.status.idle": "2023-03-22T01:00:12.240908Z",
     "shell.execute_reply": "2023-03-22T01:00:12.239392Z"
    },
    "papermill": {
     "duration": 0.038164,
     "end_time": "2023-03-22T01:00:12.243584",
     "exception": false,
     "start_time": "2023-03-22T01:00:12.205420",
     "status": "completed"
    },
    "tags": []
   },
   "outputs": [
    {
     "data": {
      "text/html": [
       "<div>\n",
       "<style scoped>\n",
       "    .dataframe tbody tr th:only-of-type {\n",
       "        vertical-align: middle;\n",
       "    }\n",
       "\n",
       "    .dataframe tbody tr th {\n",
       "        vertical-align: top;\n",
       "    }\n",
       "\n",
       "    .dataframe thead th {\n",
       "        text-align: right;\n",
       "    }\n",
       "</style>\n",
       "<table border=\"1\" class=\"dataframe\">\n",
       "  <thead>\n",
       "    <tr style=\"text-align: right;\">\n",
       "      <th></th>\n",
       "      <th>0</th>\n",
       "      <th>1</th>\n",
       "      <th>accuracy</th>\n",
       "      <th>macro avg</th>\n",
       "      <th>weighted avg</th>\n",
       "    </tr>\n",
       "  </thead>\n",
       "  <tbody>\n",
       "    <tr>\n",
       "      <th>precision</th>\n",
       "      <td>0.950820</td>\n",
       "      <td>0.809942</td>\n",
       "      <td>0.896745</td>\n",
       "      <td>0.880381</td>\n",
       "      <td>0.902754</td>\n",
       "    </tr>\n",
       "    <tr>\n",
       "      <th>recall</th>\n",
       "      <td>0.889267</td>\n",
       "      <td>0.911184</td>\n",
       "      <td>0.896745</td>\n",
       "      <td>0.900226</td>\n",
       "      <td>0.896745</td>\n",
       "    </tr>\n",
       "    <tr>\n",
       "      <th>f1-score</th>\n",
       "      <td>0.919014</td>\n",
       "      <td>0.857585</td>\n",
       "      <td>0.896745</td>\n",
       "      <td>0.888300</td>\n",
       "      <td>0.898055</td>\n",
       "    </tr>\n",
       "    <tr>\n",
       "      <th>support</th>\n",
       "      <td>587.000000</td>\n",
       "      <td>304.000000</td>\n",
       "      <td>0.896745</td>\n",
       "      <td>891.000000</td>\n",
       "      <td>891.000000</td>\n",
       "    </tr>\n",
       "  </tbody>\n",
       "</table>\n",
       "</div>"
      ],
      "text/plain": [
       "                    0           1  accuracy   macro avg  weighted avg\n",
       "precision    0.950820    0.809942  0.896745    0.880381      0.902754\n",
       "recall       0.889267    0.911184  0.896745    0.900226      0.896745\n",
       "f1-score     0.919014    0.857585  0.896745    0.888300      0.898055\n",
       "support    587.000000  304.000000  0.896745  891.000000    891.000000"
      ]
     },
     "execution_count": 30,
     "metadata": {},
     "output_type": "execute_result"
    }
   ],
   "source": [
    "#training results\n",
    "pd.DataFrame(training)"
   ]
  },
  {
   "cell_type": "code",
   "execution_count": 31,
   "id": "2b1d2893",
   "metadata": {
    "execution": {
     "iopub.execute_input": "2023-03-22T01:00:12.280045Z",
     "iopub.status.busy": "2023-03-22T01:00:12.279626Z",
     "iopub.status.idle": "2023-03-22T01:00:12.293746Z",
     "shell.execute_reply": "2023-03-22T01:00:12.292637Z"
    },
    "papermill": {
     "duration": 0.035048,
     "end_time": "2023-03-22T01:00:12.296190",
     "exception": false,
     "start_time": "2023-03-22T01:00:12.261142",
     "status": "completed"
    },
    "tags": []
   },
   "outputs": [
    {
     "data": {
      "text/html": [
       "<div>\n",
       "<style scoped>\n",
       "    .dataframe tbody tr th:only-of-type {\n",
       "        vertical-align: middle;\n",
       "    }\n",
       "\n",
       "    .dataframe tbody tr th {\n",
       "        vertical-align: top;\n",
       "    }\n",
       "\n",
       "    .dataframe thead th {\n",
       "        text-align: right;\n",
       "    }\n",
       "</style>\n",
       "<table border=\"1\" class=\"dataframe\">\n",
       "  <thead>\n",
       "    <tr style=\"text-align: right;\">\n",
       "      <th></th>\n",
       "      <th>0</th>\n",
       "      <th>1</th>\n",
       "      <th>accuracy</th>\n",
       "      <th>macro avg</th>\n",
       "      <th>weighted avg</th>\n",
       "    </tr>\n",
       "  </thead>\n",
       "  <tbody>\n",
       "    <tr>\n",
       "      <th>precision</th>\n",
       "      <td>0.961131</td>\n",
       "      <td>0.797546</td>\n",
       "      <td>0.901345</td>\n",
       "      <td>0.879338</td>\n",
       "      <td>0.909414</td>\n",
       "    </tr>\n",
       "    <tr>\n",
       "      <th>recall</th>\n",
       "      <td>0.891803</td>\n",
       "      <td>0.921986</td>\n",
       "      <td>0.901345</td>\n",
       "      <td>0.906895</td>\n",
       "      <td>0.901345</td>\n",
       "    </tr>\n",
       "    <tr>\n",
       "      <th>f1-score</th>\n",
       "      <td>0.925170</td>\n",
       "      <td>0.855263</td>\n",
       "      <td>0.901345</td>\n",
       "      <td>0.890217</td>\n",
       "      <td>0.903069</td>\n",
       "    </tr>\n",
       "    <tr>\n",
       "      <th>support</th>\n",
       "      <td>305.000000</td>\n",
       "      <td>141.000000</td>\n",
       "      <td>0.901345</td>\n",
       "      <td>446.000000</td>\n",
       "      <td>446.000000</td>\n",
       "    </tr>\n",
       "  </tbody>\n",
       "</table>\n",
       "</div>"
      ],
      "text/plain": [
       "                    0           1  accuracy   macro avg  weighted avg\n",
       "precision    0.961131    0.797546  0.901345    0.879338      0.909414\n",
       "recall       0.891803    0.921986  0.901345    0.906895      0.901345\n",
       "f1-score     0.925170    0.855263  0.901345    0.890217      0.903069\n",
       "support    305.000000  141.000000  0.901345  446.000000    446.000000"
      ]
     },
     "execution_count": 31,
     "metadata": {},
     "output_type": "execute_result"
    }
   ],
   "source": [
    "\n",
    "#test results\n",
    "pd.DataFrame(testing)"
   ]
  },
  {
   "cell_type": "markdown",
   "id": "0cc84f27",
   "metadata": {
    "papermill": {
     "duration": 0.017234,
     "end_time": "2023-03-22T01:00:12.331127",
     "exception": false,
     "start_time": "2023-03-22T01:00:12.313893",
     "status": "completed"
    },
    "tags": []
   },
   "source": [
    "## Support Vector Machine Model"
   ]
  },
  {
   "cell_type": "code",
   "execution_count": 32,
   "id": "d3bfd3a4",
   "metadata": {
    "execution": {
     "iopub.execute_input": "2023-03-22T01:00:12.369063Z",
     "iopub.status.busy": "2023-03-22T01:00:12.368218Z",
     "iopub.status.idle": "2023-03-22T01:00:12.387071Z",
     "shell.execute_reply": "2023-03-22T01:00:12.385852Z"
    },
    "executionInfo": {
     "elapsed": 166,
     "status": "ok",
     "timestamp": 1679008907162,
     "user": {
      "displayName": "Y L",
      "userId": "10906315492438391707"
     },
     "user_tz": 420
    },
    "id": "2oYGLfK3l6IS",
    "outputId": "2c512584-9efb-4bba-8761-6db54eb09403",
    "papermill": {
     "duration": 0.040888,
     "end_time": "2023-03-22T01:00:12.389550",
     "exception": false,
     "start_time": "2023-03-22T01:00:12.348662",
     "status": "completed"
    },
    "tags": []
   },
   "outputs": [
    {
     "data": {
      "text/plain": [
       "SVC()"
      ]
     },
     "execution_count": 32,
     "metadata": {},
     "output_type": "execute_result"
    }
   ],
   "source": [
    "model_svm.fit(predictors_train_df,target_train_df)"
   ]
  },
  {
   "cell_type": "code",
   "execution_count": 33,
   "id": "25c424a6",
   "metadata": {
    "execution": {
     "iopub.execute_input": "2023-03-22T01:00:12.428767Z",
     "iopub.status.busy": "2023-03-22T01:00:12.428378Z",
     "iopub.status.idle": "2023-03-22T01:00:12.463033Z",
     "shell.execute_reply": "2023-03-22T01:00:12.461515Z"
    },
    "papermill": {
     "duration": 0.058555,
     "end_time": "2023-03-22T01:00:12.466490",
     "exception": false,
     "start_time": "2023-03-22T01:00:12.407935",
     "status": "completed"
    },
    "tags": []
   },
   "outputs": [],
   "source": [
    "training=classification_report(model_svm.predict(predictors_train_df),target_train_df,output_dict=True)\n",
    "testing=classification_report(model_svm.predict(predictors_test_df),target_test_df,output_dict=True)"
   ]
  },
  {
   "cell_type": "code",
   "execution_count": 34,
   "id": "873d3705",
   "metadata": {
    "execution": {
     "iopub.execute_input": "2023-03-22T01:00:12.507185Z",
     "iopub.status.busy": "2023-03-22T01:00:12.506706Z",
     "iopub.status.idle": "2023-03-22T01:00:12.521588Z",
     "shell.execute_reply": "2023-03-22T01:00:12.520211Z"
    },
    "papermill": {
     "duration": 0.037387,
     "end_time": "2023-03-22T01:00:12.524245",
     "exception": false,
     "start_time": "2023-03-22T01:00:12.486858",
     "status": "completed"
    },
    "tags": []
   },
   "outputs": [
    {
     "data": {
      "text/html": [
       "<div>\n",
       "<style scoped>\n",
       "    .dataframe tbody tr th:only-of-type {\n",
       "        vertical-align: middle;\n",
       "    }\n",
       "\n",
       "    .dataframe tbody tr th {\n",
       "        vertical-align: top;\n",
       "    }\n",
       "\n",
       "    .dataframe thead th {\n",
       "        text-align: right;\n",
       "    }\n",
       "</style>\n",
       "<table border=\"1\" class=\"dataframe\">\n",
       "  <thead>\n",
       "    <tr style=\"text-align: right;\">\n",
       "      <th></th>\n",
       "      <th>0</th>\n",
       "      <th>1</th>\n",
       "      <th>accuracy</th>\n",
       "      <th>macro avg</th>\n",
       "      <th>weighted avg</th>\n",
       "    </tr>\n",
       "  </thead>\n",
       "  <tbody>\n",
       "    <tr>\n",
       "      <th>precision</th>\n",
       "      <td>0.894737</td>\n",
       "      <td>0.340782</td>\n",
       "      <td>0.67191</td>\n",
       "      <td>0.617759</td>\n",
       "      <td>0.783946</td>\n",
       "    </tr>\n",
       "    <tr>\n",
       "      <th>recall</th>\n",
       "      <td>0.668539</td>\n",
       "      <td>0.685393</td>\n",
       "      <td>0.67191</td>\n",
       "      <td>0.676966</td>\n",
       "      <td>0.671910</td>\n",
       "    </tr>\n",
       "    <tr>\n",
       "      <th>f1-score</th>\n",
       "      <td>0.765273</td>\n",
       "      <td>0.455224</td>\n",
       "      <td>0.67191</td>\n",
       "      <td>0.610249</td>\n",
       "      <td>0.703263</td>\n",
       "    </tr>\n",
       "    <tr>\n",
       "      <th>support</th>\n",
       "      <td>356.000000</td>\n",
       "      <td>89.000000</td>\n",
       "      <td>0.67191</td>\n",
       "      <td>445.000000</td>\n",
       "      <td>445.000000</td>\n",
       "    </tr>\n",
       "  </tbody>\n",
       "</table>\n",
       "</div>"
      ],
      "text/plain": [
       "                    0          1  accuracy   macro avg  weighted avg\n",
       "precision    0.894737   0.340782   0.67191    0.617759      0.783946\n",
       "recall       0.668539   0.685393   0.67191    0.676966      0.671910\n",
       "f1-score     0.765273   0.455224   0.67191    0.610249      0.703263\n",
       "support    356.000000  89.000000   0.67191  445.000000    445.000000"
      ]
     },
     "execution_count": 34,
     "metadata": {},
     "output_type": "execute_result"
    }
   ],
   "source": [
    "#training results\n",
    "pd.DataFrame(training)"
   ]
  },
  {
   "cell_type": "code",
   "execution_count": 35,
   "id": "20409559",
   "metadata": {
    "execution": {
     "iopub.execute_input": "2023-03-22T01:00:12.565377Z",
     "iopub.status.busy": "2023-03-22T01:00:12.564923Z",
     "iopub.status.idle": "2023-03-22T01:00:12.578995Z",
     "shell.execute_reply": "2023-03-22T01:00:12.577885Z"
    },
    "papermill": {
     "duration": 0.036852,
     "end_time": "2023-03-22T01:00:12.581443",
     "exception": false,
     "start_time": "2023-03-22T01:00:12.544591",
     "status": "completed"
    },
    "tags": []
   },
   "outputs": [
    {
     "data": {
      "text/html": [
       "<div>\n",
       "<style scoped>\n",
       "    .dataframe tbody tr th:only-of-type {\n",
       "        vertical-align: middle;\n",
       "    }\n",
       "\n",
       "    .dataframe tbody tr th {\n",
       "        vertical-align: top;\n",
       "    }\n",
       "\n",
       "    .dataframe thead th {\n",
       "        text-align: right;\n",
       "    }\n",
       "</style>\n",
       "<table border=\"1\" class=\"dataframe\">\n",
       "  <thead>\n",
       "    <tr style=\"text-align: right;\">\n",
       "      <th></th>\n",
       "      <th>0</th>\n",
       "      <th>1</th>\n",
       "      <th>accuracy</th>\n",
       "      <th>macro avg</th>\n",
       "      <th>weighted avg</th>\n",
       "    </tr>\n",
       "  </thead>\n",
       "  <tbody>\n",
       "    <tr>\n",
       "      <th>precision</th>\n",
       "      <td>0.918728</td>\n",
       "      <td>0.294479</td>\n",
       "      <td>0.690583</td>\n",
       "      <td>0.606603</td>\n",
       "      <td>0.819352</td>\n",
       "    </tr>\n",
       "    <tr>\n",
       "      <th>recall</th>\n",
       "      <td>0.693333</td>\n",
       "      <td>0.676056</td>\n",
       "      <td>0.690583</td>\n",
       "      <td>0.684695</td>\n",
       "      <td>0.690583</td>\n",
       "    </tr>\n",
       "    <tr>\n",
       "      <th>f1-score</th>\n",
       "      <td>0.790274</td>\n",
       "      <td>0.410256</td>\n",
       "      <td>0.690583</td>\n",
       "      <td>0.600265</td>\n",
       "      <td>0.729778</td>\n",
       "    </tr>\n",
       "    <tr>\n",
       "      <th>support</th>\n",
       "      <td>375.000000</td>\n",
       "      <td>71.000000</td>\n",
       "      <td>0.690583</td>\n",
       "      <td>446.000000</td>\n",
       "      <td>446.000000</td>\n",
       "    </tr>\n",
       "  </tbody>\n",
       "</table>\n",
       "</div>"
      ],
      "text/plain": [
       "                    0          1  accuracy   macro avg  weighted avg\n",
       "precision    0.918728   0.294479  0.690583    0.606603      0.819352\n",
       "recall       0.693333   0.676056  0.690583    0.684695      0.690583\n",
       "f1-score     0.790274   0.410256  0.690583    0.600265      0.729778\n",
       "support    375.000000  71.000000  0.690583  446.000000    446.000000"
      ]
     },
     "execution_count": 35,
     "metadata": {},
     "output_type": "execute_result"
    }
   ],
   "source": [
    "#test results\n",
    "pd.DataFrame(testing)"
   ]
  },
  {
   "cell_type": "markdown",
   "id": "7a69ba0c",
   "metadata": {
    "papermill": {
     "duration": 0.017621,
     "end_time": "2023-03-22T01:00:12.617141",
     "exception": false,
     "start_time": "2023-03-22T01:00:12.599520",
     "status": "completed"
    },
    "tags": []
   },
   "source": [
    "## Neural Network Model"
   ]
  },
  {
   "cell_type": "code",
   "execution_count": 36,
   "id": "a290a6f2",
   "metadata": {
    "execution": {
     "iopub.execute_input": "2023-03-22T01:00:12.655025Z",
     "iopub.status.busy": "2023-03-22T01:00:12.654580Z",
     "iopub.status.idle": "2023-03-22T01:00:13.656588Z",
     "shell.execute_reply": "2023-03-22T01:00:13.655271Z"
    },
    "executionInfo": {
     "elapsed": 1027,
     "status": "ok",
     "timestamp": 1679014148112,
     "user": {
      "displayName": "Y L",
      "userId": "10906315492438391707"
     },
     "user_tz": 420
    },
    "id": "dqfF8sO9-f8e",
    "outputId": "60e5811b-7e33-4aa0-fac6-a071cbf06f1e",
    "papermill": {
     "duration": 1.025088,
     "end_time": "2023-03-22T01:00:13.660010",
     "exception": false,
     "start_time": "2023-03-22T01:00:12.634922",
     "status": "completed"
    },
    "tags": []
   },
   "outputs": [
    {
     "data": {
      "text/plain": [
       "MLPClassifier(hidden_layer_sizes=(40, 40), max_iter=1000, random_state=1)"
      ]
     },
     "execution_count": 36,
     "metadata": {},
     "output_type": "execute_result"
    }
   ],
   "source": [
    "model_nn=MLPClassifier(hidden_layer_sizes=(40,40), random_state=1,alpha=0.0001,max_iter=1000)\n",
    "model_nn.fit(predictors_train_df,target_train_df)"
   ]
  },
  {
   "cell_type": "code",
   "execution_count": 37,
   "id": "6c3121b2",
   "metadata": {
    "execution": {
     "iopub.execute_input": "2023-03-22T01:00:13.730326Z",
     "iopub.status.busy": "2023-03-22T01:00:13.728435Z",
     "iopub.status.idle": "2023-03-22T01:00:13.762855Z",
     "shell.execute_reply": "2023-03-22T01:00:13.761287Z"
    },
    "executionInfo": {
     "elapsed": 247,
     "status": "ok",
     "timestamp": 1679014150459,
     "user": {
      "displayName": "Y L",
      "userId": "10906315492438391707"
     },
     "user_tz": 420
    },
    "id": "YS21jrP-l-i3",
    "papermill": {
     "duration": 0.076464,
     "end_time": "2023-03-22T01:00:13.767504",
     "exception": false,
     "start_time": "2023-03-22T01:00:13.691040",
     "status": "completed"
    },
    "tags": []
   },
   "outputs": [],
   "source": [
    "training=classification_report(model_nn.predict(predictors_train_df),target_train_df,output_dict=True)\n",
    "testing=classification_report(model_nn.predict(predictors_test_df),target_test_df,output_dict=True)"
   ]
  },
  {
   "cell_type": "code",
   "execution_count": 38,
   "id": "77ff0c75",
   "metadata": {
    "execution": {
     "iopub.execute_input": "2023-03-22T01:00:13.841923Z",
     "iopub.status.busy": "2023-03-22T01:00:13.841258Z",
     "iopub.status.idle": "2023-03-22T01:00:13.869869Z",
     "shell.execute_reply": "2023-03-22T01:00:13.868230Z"
    },
    "papermill": {
     "duration": 0.071153,
     "end_time": "2023-03-22T01:00:13.874856",
     "exception": false,
     "start_time": "2023-03-22T01:00:13.803703",
     "status": "completed"
    },
    "tags": []
   },
   "outputs": [
    {
     "data": {
      "text/html": [
       "<div>\n",
       "<style scoped>\n",
       "    .dataframe tbody tr th:only-of-type {\n",
       "        vertical-align: middle;\n",
       "    }\n",
       "\n",
       "    .dataframe tbody tr th {\n",
       "        vertical-align: top;\n",
       "    }\n",
       "\n",
       "    .dataframe thead th {\n",
       "        text-align: right;\n",
       "    }\n",
       "</style>\n",
       "<table border=\"1\" class=\"dataframe\">\n",
       "  <thead>\n",
       "    <tr style=\"text-align: right;\">\n",
       "      <th></th>\n",
       "      <th>0</th>\n",
       "      <th>1</th>\n",
       "      <th>accuracy</th>\n",
       "      <th>macro avg</th>\n",
       "      <th>weighted avg</th>\n",
       "    </tr>\n",
       "  </thead>\n",
       "  <tbody>\n",
       "    <tr>\n",
       "      <th>precision</th>\n",
       "      <td>0.857143</td>\n",
       "      <td>0.743017</td>\n",
       "      <td>0.811236</td>\n",
       "      <td>0.800080</td>\n",
       "      <td>0.813288</td>\n",
       "    </tr>\n",
       "    <tr>\n",
       "      <th>recall</th>\n",
       "      <td>0.832117</td>\n",
       "      <td>0.777778</td>\n",
       "      <td>0.811236</td>\n",
       "      <td>0.804947</td>\n",
       "      <td>0.811236</td>\n",
       "    </tr>\n",
       "    <tr>\n",
       "      <th>f1-score</th>\n",
       "      <td>0.844444</td>\n",
       "      <td>0.760000</td>\n",
       "      <td>0.811236</td>\n",
       "      <td>0.802222</td>\n",
       "      <td>0.811995</td>\n",
       "    </tr>\n",
       "    <tr>\n",
       "      <th>support</th>\n",
       "      <td>274.000000</td>\n",
       "      <td>171.000000</td>\n",
       "      <td>0.811236</td>\n",
       "      <td>445.000000</td>\n",
       "      <td>445.000000</td>\n",
       "    </tr>\n",
       "  </tbody>\n",
       "</table>\n",
       "</div>"
      ],
      "text/plain": [
       "                    0           1  accuracy   macro avg  weighted avg\n",
       "precision    0.857143    0.743017  0.811236    0.800080      0.813288\n",
       "recall       0.832117    0.777778  0.811236    0.804947      0.811236\n",
       "f1-score     0.844444    0.760000  0.811236    0.802222      0.811995\n",
       "support    274.000000  171.000000  0.811236  445.000000    445.000000"
      ]
     },
     "execution_count": 38,
     "metadata": {},
     "output_type": "execute_result"
    }
   ],
   "source": [
    "#training results\n",
    "pd.DataFrame(training)"
   ]
  },
  {
   "cell_type": "code",
   "execution_count": 39,
   "id": "46f0ce92",
   "metadata": {
    "execution": {
     "iopub.execute_input": "2023-03-22T01:00:13.918486Z",
     "iopub.status.busy": "2023-03-22T01:00:13.918067Z",
     "iopub.status.idle": "2023-03-22T01:00:13.934445Z",
     "shell.execute_reply": "2023-03-22T01:00:13.933109Z"
    },
    "papermill": {
     "duration": 0.041589,
     "end_time": "2023-03-22T01:00:13.937261",
     "exception": false,
     "start_time": "2023-03-22T01:00:13.895672",
     "status": "completed"
    },
    "tags": []
   },
   "outputs": [
    {
     "data": {
      "text/html": [
       "<div>\n",
       "<style scoped>\n",
       "    .dataframe tbody tr th:only-of-type {\n",
       "        vertical-align: middle;\n",
       "    }\n",
       "\n",
       "    .dataframe tbody tr th {\n",
       "        vertical-align: top;\n",
       "    }\n",
       "\n",
       "    .dataframe thead th {\n",
       "        text-align: right;\n",
       "    }\n",
       "</style>\n",
       "<table border=\"1\" class=\"dataframe\">\n",
       "  <thead>\n",
       "    <tr style=\"text-align: right;\">\n",
       "      <th></th>\n",
       "      <th>0</th>\n",
       "      <th>1</th>\n",
       "      <th>accuracy</th>\n",
       "      <th>macro avg</th>\n",
       "      <th>weighted avg</th>\n",
       "    </tr>\n",
       "  </thead>\n",
       "  <tbody>\n",
       "    <tr>\n",
       "      <th>precision</th>\n",
       "      <td>0.787986</td>\n",
       "      <td>0.699387</td>\n",
       "      <td>0.755605</td>\n",
       "      <td>0.743686</td>\n",
       "      <td>0.753420</td>\n",
       "    </tr>\n",
       "    <tr>\n",
       "      <th>recall</th>\n",
       "      <td>0.819853</td>\n",
       "      <td>0.655172</td>\n",
       "      <td>0.755605</td>\n",
       "      <td>0.737513</td>\n",
       "      <td>0.755605</td>\n",
       "    </tr>\n",
       "    <tr>\n",
       "      <th>f1-score</th>\n",
       "      <td>0.803604</td>\n",
       "      <td>0.676558</td>\n",
       "      <td>0.755605</td>\n",
       "      <td>0.740081</td>\n",
       "      <td>0.754039</td>\n",
       "    </tr>\n",
       "    <tr>\n",
       "      <th>support</th>\n",
       "      <td>272.000000</td>\n",
       "      <td>174.000000</td>\n",
       "      <td>0.755605</td>\n",
       "      <td>446.000000</td>\n",
       "      <td>446.000000</td>\n",
       "    </tr>\n",
       "  </tbody>\n",
       "</table>\n",
       "</div>"
      ],
      "text/plain": [
       "                    0           1  accuracy   macro avg  weighted avg\n",
       "precision    0.787986    0.699387  0.755605    0.743686      0.753420\n",
       "recall       0.819853    0.655172  0.755605    0.737513      0.755605\n",
       "f1-score     0.803604    0.676558  0.755605    0.740081      0.754039\n",
       "support    272.000000  174.000000  0.755605  446.000000    446.000000"
      ]
     },
     "execution_count": 39,
     "metadata": {},
     "output_type": "execute_result"
    }
   ],
   "source": [
    "pd.DataFrame(testing)"
   ]
  },
  {
   "cell_type": "markdown",
   "id": "0b41f7cb",
   "metadata": {
    "papermill": {
     "duration": 0.019244,
     "end_time": "2023-03-22T01:00:13.975260",
     "exception": false,
     "start_time": "2023-03-22T01:00:13.956016",
     "status": "completed"
    },
    "tags": []
   },
   "source": [
    "## Grid Search CV model-XGB"
   ]
  },
  {
   "cell_type": "code",
   "execution_count": 40,
   "id": "635ede73",
   "metadata": {
    "execution": {
     "iopub.execute_input": "2023-03-22T01:00:14.016339Z",
     "iopub.status.busy": "2023-03-22T01:00:14.015539Z",
     "iopub.status.idle": "2023-03-22T01:00:34.337450Z",
     "shell.execute_reply": "2023-03-22T01:00:34.335665Z"
    },
    "papermill": {
     "duration": 20.346627,
     "end_time": "2023-03-22T01:00:34.340529",
     "exception": false,
     "start_time": "2023-03-22T01:00:13.993902",
     "status": "completed"
    },
    "tags": []
   },
   "outputs": [
    {
     "name": "stdout",
     "output_type": "stream",
     "text": [
      "Param for GS {'max_depth': 3, 'min_samples_leaf': 1, 'min_samples_split': 2}\n",
      "CV score for GS 0.856497716163732\n",
      "Train AUC ROC Score for GS:  0.8973516192716428\n",
      "Test AUC ROC Score for GS:  0.8097942725834074\n"
     ]
    }
   ],
   "source": [
    "from sklearn.tree import DecisionTreeClassifier\n",
    "from sklearn.model_selection import GridSearchCV\n",
    "\n",
    "param_grid = {\n",
    "    \"max_depth\": [3,5,10,15,20,None],\n",
    "    \"min_samples_split\": [2,5,7,10],\n",
    "    \"min_samples_leaf\": [1,2,5]\n",
    "}\n",
    "\n",
    "\n",
    "grid_cv = GridSearchCV(model_XGB, param_grid, scoring=\"roc_auc\", n_jobs=-1, cv=3).fit(predictors_train_df, target_train_df)\n",
    "\n",
    "print(\"Param for GS\", grid_cv.best_params_)\n",
    "print(\"CV score for GS\", grid_cv.best_score_)\n",
    "print(\"Train AUC ROC Score for GS: \", roc_auc_score(target_train_df, grid_cv.predict(predictors_train_df)))\n",
    "print(\"Test AUC ROC Score for GS: \", roc_auc_score(target_test_df, grid_cv.predict(predictors_test_df)))"
   ]
  },
  {
   "cell_type": "code",
   "execution_count": 41,
   "id": "79159d9d",
   "metadata": {
    "execution": {
     "iopub.execute_input": "2023-03-22T01:00:34.379878Z",
     "iopub.status.busy": "2023-03-22T01:00:34.379436Z",
     "iopub.status.idle": "2023-03-22T01:00:34.401782Z",
     "shell.execute_reply": "2023-03-22T01:00:34.400384Z"
    },
    "papermill": {
     "duration": 0.045586,
     "end_time": "2023-03-22T01:00:34.404756",
     "exception": false,
     "start_time": "2023-03-22T01:00:34.359170",
     "status": "completed"
    },
    "tags": []
   },
   "outputs": [],
   "source": [
    "training=classification_report(grid_cv.predict(predictors_train_df),target_train_df,output_dict=True)\n",
    "testing=classification_report(grid_cv.predict(predictors_test_df),target_test_df,output_dict=True)"
   ]
  },
  {
   "cell_type": "code",
   "execution_count": 42,
   "id": "cb7cea6d",
   "metadata": {
    "execution": {
     "iopub.execute_input": "2023-03-22T01:00:34.444708Z",
     "iopub.status.busy": "2023-03-22T01:00:34.443630Z",
     "iopub.status.idle": "2023-03-22T01:00:34.459361Z",
     "shell.execute_reply": "2023-03-22T01:00:34.458093Z"
    },
    "executionInfo": {
     "elapsed": 489,
     "status": "ok",
     "timestamp": 1679014151779,
     "user": {
      "displayName": "Y L",
      "userId": "10906315492438391707"
     },
     "user_tz": 420
    },
    "id": "0ejEFcuSmPyX",
    "outputId": "625a22cd-88ee-4a38-e9e0-d945d817fec8",
    "papermill": {
     "duration": 0.038921,
     "end_time": "2023-03-22T01:00:34.462444",
     "exception": false,
     "start_time": "2023-03-22T01:00:34.423523",
     "status": "completed"
    },
    "tags": []
   },
   "outputs": [
    {
     "data": {
      "text/html": [
       "<div>\n",
       "<style scoped>\n",
       "    .dataframe tbody tr th:only-of-type {\n",
       "        vertical-align: middle;\n",
       "    }\n",
       "\n",
       "    .dataframe tbody tr th {\n",
       "        vertical-align: top;\n",
       "    }\n",
       "\n",
       "    .dataframe thead th {\n",
       "        text-align: right;\n",
       "    }\n",
       "</style>\n",
       "<table border=\"1\" class=\"dataframe\">\n",
       "  <thead>\n",
       "    <tr style=\"text-align: right;\">\n",
       "      <th></th>\n",
       "      <th>0</th>\n",
       "      <th>1</th>\n",
       "      <th>accuracy</th>\n",
       "      <th>macro avg</th>\n",
       "      <th>weighted avg</th>\n",
       "    </tr>\n",
       "  </thead>\n",
       "  <tbody>\n",
       "    <tr>\n",
       "      <th>precision</th>\n",
       "      <td>0.951128</td>\n",
       "      <td>0.843575</td>\n",
       "      <td>0.907865</td>\n",
       "      <td>0.897352</td>\n",
       "      <td>0.911491</td>\n",
       "    </tr>\n",
       "    <tr>\n",
       "      <th>recall</th>\n",
       "      <td>0.900356</td>\n",
       "      <td>0.920732</td>\n",
       "      <td>0.907865</td>\n",
       "      <td>0.910544</td>\n",
       "      <td>0.907865</td>\n",
       "    </tr>\n",
       "    <tr>\n",
       "      <th>f1-score</th>\n",
       "      <td>0.925046</td>\n",
       "      <td>0.880466</td>\n",
       "      <td>0.907865</td>\n",
       "      <td>0.902756</td>\n",
       "      <td>0.908617</td>\n",
       "    </tr>\n",
       "    <tr>\n",
       "      <th>support</th>\n",
       "      <td>281.000000</td>\n",
       "      <td>164.000000</td>\n",
       "      <td>0.907865</td>\n",
       "      <td>445.000000</td>\n",
       "      <td>445.000000</td>\n",
       "    </tr>\n",
       "  </tbody>\n",
       "</table>\n",
       "</div>"
      ],
      "text/plain": [
       "                    0           1  accuracy   macro avg  weighted avg\n",
       "precision    0.951128    0.843575  0.907865    0.897352      0.911491\n",
       "recall       0.900356    0.920732  0.907865    0.910544      0.907865\n",
       "f1-score     0.925046    0.880466  0.907865    0.902756      0.908617\n",
       "support    281.000000  164.000000  0.907865  445.000000    445.000000"
      ]
     },
     "execution_count": 42,
     "metadata": {},
     "output_type": "execute_result"
    }
   ],
   "source": [
    "\n",
    "#training results\n",
    "pd.DataFrame(training)"
   ]
  },
  {
   "cell_type": "code",
   "execution_count": 43,
   "id": "981dfa00",
   "metadata": {
    "execution": {
     "iopub.execute_input": "2023-03-22T01:00:34.503306Z",
     "iopub.status.busy": "2023-03-22T01:00:34.502881Z",
     "iopub.status.idle": "2023-03-22T01:00:34.517534Z",
     "shell.execute_reply": "2023-03-22T01:00:34.516290Z"
    },
    "executionInfo": {
     "elapsed": 401,
     "status": "ok",
     "timestamp": 1679014153667,
     "user": {
      "displayName": "Y L",
      "userId": "10906315492438391707"
     },
     "user_tz": 420
    },
    "id": "XuuO0nl7mpaQ",
    "outputId": "09929d18-8ead-49ee-f43f-597849e6b75d",
    "papermill": {
     "duration": 0.038488,
     "end_time": "2023-03-22T01:00:34.520363",
     "exception": false,
     "start_time": "2023-03-22T01:00:34.481875",
     "status": "completed"
    },
    "tags": []
   },
   "outputs": [
    {
     "data": {
      "text/html": [
       "<div>\n",
       "<style scoped>\n",
       "    .dataframe tbody tr th:only-of-type {\n",
       "        vertical-align: middle;\n",
       "    }\n",
       "\n",
       "    .dataframe tbody tr th {\n",
       "        vertical-align: top;\n",
       "    }\n",
       "\n",
       "    .dataframe thead th {\n",
       "        text-align: right;\n",
       "    }\n",
       "</style>\n",
       "<table border=\"1\" class=\"dataframe\">\n",
       "  <thead>\n",
       "    <tr style=\"text-align: right;\">\n",
       "      <th></th>\n",
       "      <th>0</th>\n",
       "      <th>1</th>\n",
       "      <th>accuracy</th>\n",
       "      <th>macro avg</th>\n",
       "      <th>weighted avg</th>\n",
       "    </tr>\n",
       "  </thead>\n",
       "  <tbody>\n",
       "    <tr>\n",
       "      <th>precision</th>\n",
       "      <td>0.883392</td>\n",
       "      <td>0.736196</td>\n",
       "      <td>0.829596</td>\n",
       "      <td>0.809794</td>\n",
       "      <td>0.832897</td>\n",
       "    </tr>\n",
       "    <tr>\n",
       "      <th>recall</th>\n",
       "      <td>0.853242</td>\n",
       "      <td>0.784314</td>\n",
       "      <td>0.829596</td>\n",
       "      <td>0.818778</td>\n",
       "      <td>0.829596</td>\n",
       "    </tr>\n",
       "    <tr>\n",
       "      <th>f1-score</th>\n",
       "      <td>0.868056</td>\n",
       "      <td>0.759494</td>\n",
       "      <td>0.829596</td>\n",
       "      <td>0.813775</td>\n",
       "      <td>0.830813</td>\n",
       "    </tr>\n",
       "    <tr>\n",
       "      <th>support</th>\n",
       "      <td>293.000000</td>\n",
       "      <td>153.000000</td>\n",
       "      <td>0.829596</td>\n",
       "      <td>446.000000</td>\n",
       "      <td>446.000000</td>\n",
       "    </tr>\n",
       "  </tbody>\n",
       "</table>\n",
       "</div>"
      ],
      "text/plain": [
       "                    0           1  accuracy   macro avg  weighted avg\n",
       "precision    0.883392    0.736196  0.829596    0.809794      0.832897\n",
       "recall       0.853242    0.784314  0.829596    0.818778      0.829596\n",
       "f1-score     0.868056    0.759494  0.829596    0.813775      0.830813\n",
       "support    293.000000  153.000000  0.829596  446.000000    446.000000"
      ]
     },
     "execution_count": 43,
     "metadata": {},
     "output_type": "execute_result"
    }
   ],
   "source": [
    "#test results\n",
    "pd.DataFrame(testing)"
   ]
  },
  {
   "cell_type": "code",
   "execution_count": 44,
   "id": "55bd5e1e",
   "metadata": {
    "execution": {
     "iopub.execute_input": "2023-03-22T01:00:34.560879Z",
     "iopub.status.busy": "2023-03-22T01:00:34.559922Z",
     "iopub.status.idle": "2023-03-22T01:00:34.570902Z",
     "shell.execute_reply": "2023-03-22T01:00:34.569905Z"
    },
    "papermill": {
     "duration": 0.033721,
     "end_time": "2023-03-22T01:00:34.573157",
     "exception": false,
     "start_time": "2023-03-22T01:00:34.539436",
     "status": "completed"
    },
    "tags": []
   },
   "outputs": [],
   "source": [
    "# Plot learning curve\n",
    "def plot_learning_curve(estimator, title, X, y, ylim=None, cv=None,\n",
    "                        n_jobs=1, train_sizes=np.linspace(.1, 1.0, 5)):\n",
    "    plt.figure()\n",
    "    plt.title(title)\n",
    "    if ylim is not None:\n",
    "        plt.ylim(*ylim)\n",
    "    plt.xlabel(\"Training examples\")\n",
    "    plt.ylabel(\"Score\")\n",
    "    train_sizes, train_scores, test_scores = learning_curve(\n",
    "        estimator, X, y, cv=cv, n_jobs=n_jobs, train_sizes=train_sizes)\n",
    "    train_scores_mean = np.mean(train_scores, axis=1)\n",
    "    train_scores_std = np.std(train_scores, axis=1)\n",
    "    test_scores_mean = np.mean(test_scores, axis=1)\n",
    "    test_scores_std = np.std(test_scores, axis=1)\n",
    "    plt.grid()\n",
    "\n",
    "    plt.fill_between(train_sizes, train_scores_mean - train_scores_std,\n",
    "                     train_scores_mean + train_scores_std, alpha=0.1,\n",
    "                     color=\"r\")\n",
    "    plt.fill_between(train_sizes, test_scores_mean - test_scores_std,\n",
    "                     test_scores_mean + test_scores_std, alpha=0.1, color=\"g\")\n",
    "    plt.plot(train_sizes, train_scores_mean, 'o-', color=\"r\",\n",
    "             label=\"Training score\")\n",
    "    plt.plot(train_sizes, test_scores_mean, 'o-', color=\"g\",\n",
    "             label=\"Validation score\")\n",
    "\n",
    "    plt.legend(loc=\"best\")\n",
    "    return plt"
   ]
  },
  {
   "cell_type": "code",
   "execution_count": 45,
   "id": "f820df28",
   "metadata": {
    "execution": {
     "iopub.execute_input": "2023-03-22T01:00:34.613048Z",
     "iopub.status.busy": "2023-03-22T01:00:34.612646Z",
     "iopub.status.idle": "2023-03-22T01:00:38.219511Z",
     "shell.execute_reply": "2023-03-22T01:00:38.218093Z"
    },
    "papermill": {
     "duration": 3.63019,
     "end_time": "2023-03-22T01:00:38.222460",
     "exception": false,
     "start_time": "2023-03-22T01:00:34.592270",
     "status": "completed"
    },
    "tags": []
   },
   "outputs": [
    {
     "data": {
      "image/png": "[encoded data removed]",
      "text/plain": [
       "<Figure size 640x480 with 1 Axes>"
      ]
     },
     "metadata": {},
     "output_type": "display_data"
    }
   ],
   "source": [
    "# Plot learning curves\n",
    "title = \"Learning Curves (Logistic Regression)\"\n",
    "cv = 10\n",
    "plot_learning_curve(model_XGB, title, \n",
    "                    predictors_train_df,target_train_df, ylim=(0.65, 1.00), cv=cv, n_jobs=1);"
   ]
  },
  {
   "cell_type": "markdown",
   "id": "a4d2b393",
   "metadata": {
    "papermill": {
     "duration": 0.019432,
     "end_time": "2023-03-22T01:00:38.262077",
     "exception": false,
     "start_time": "2023-03-22T01:00:38.242645",
     "status": "completed"
    },
    "tags": []
   },
   "source": [
    "## Submission"
   ]
  },
  {
   "cell_type": "code",
   "execution_count": 46,
   "id": "d40e081d",
   "metadata": {
    "execution": {
     "iopub.execute_input": "2023-03-22T01:00:38.303741Z",
     "iopub.status.busy": "2023-03-22T01:00:38.303321Z",
     "iopub.status.idle": "2023-03-22T01:00:38.320141Z",
     "shell.execute_reply": "2023-03-22T01:00:38.319021Z"
    },
    "papermill": {
     "duration": 0.040679,
     "end_time": "2023-03-22T01:00:38.322754",
     "exception": false,
     "start_time": "2023-03-22T01:00:38.282075",
     "status": "completed"
    },
    "tags": []
   },
   "outputs": [],
   "source": [
    "submission = pd.DataFrame({\n",
    "        \"PassengerId\": np.array(test_df.index+892),\n",
    "        \"Survived\": grid_cv.predict(test_df)\n",
    "    })\n",
    "\n",
    "submission.to_csv('submission_XGB2--1312223411.csv',index=False)"
   ]
  }
 ],
 "metadata": {
  "kernelspec": {
   "display_name": "Python 3",
   "language": "python",
   "name": "python3"
  },
  "language_info": {
   "codemirror_mode": {
    "name": "ipython",
    "version": 3
   },
   "file_extension": ".py",
   "mimetype": "text/x-python",
   "name": "python",
   "nbconvert_exporter": "python",
   "pygments_lexer": "ipython3",
   "version": "3.7.12"
  },
  "papermill": {
   "default_parameters": {},
   "duration": 43.964548,
   "end_time": "2023-03-22T01:00:40.963592",
   "environment_variables": {},
   "exception": null,
   "input_path": "__notebook__.ipynb",
   "output_path": "__notebook__.ipynb",
   "parameters": {},
   "start_time": "2023-03-22T00:59:56.999044",
   "version": "2.4.0"
  }
 },
 "nbformat": 4,
 "nbformat_minor": 5
}
